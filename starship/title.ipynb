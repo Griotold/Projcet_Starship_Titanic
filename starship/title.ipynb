{
 "cells": [
  {
   "cell_type": "markdown",
   "id": "36936c00",
   "metadata": {
    "_cell_guid": "b1076dfc-b9ad-4769-8c92-a6c4dae69d19",
    "_uuid": "8f2839f25d086af736a60e9eeb907d3b93b6e0e5",
    "execution": {
     "iopub.execute_input": "2022-04-05T07:59:28.718354Z",
     "iopub.status.busy": "2022-04-05T07:59:28.717465Z",
     "iopub.status.idle": "2022-04-05T07:59:28.727854Z",
     "shell.execute_reply": "2022-04-05T07:59:28.726656Z",
     "shell.execute_reply.started": "2022-04-05T07:59:28.718298Z"
    },
    "papermill": {
     "duration": 0.076048,
     "end_time": "2022-04-05T08:19:49.719956",
     "exception": false,
     "start_time": "2022-04-05T08:19:49.643908",
     "status": "completed"
    },
    "tags": []
   },
   "source": [
    "# 프로젝트 개요\n",
    "- 강의명 : 2022년 K-디지털 직업훈련(Training) 사업 - AI데이터플랫폼을 활용한 빅데이터 분석전문가 과정\n",
    "- 교과목명 : 빅데이터 분석 및 시각화, AI개발 기초, 인공지능 프로그래밍\n",
    "- 프로젝트 주제 : Spaceship Titanic 데이터를 활용한 탑승유무 분류모형 개발\n",
    "- 프로젝트 마감일 : 2022년 4월 12일 화요일\n",
    "- 강사명 : 정지훈 강사\n",
    "- 수강생명 : 조해성"
   ]
  },
  {
   "cell_type": "code",
   "execution_count": 1,
   "id": "77532db2",
   "metadata": {
    "_cell_guid": "b1076dfc-b9ad-4769-8c92-a6c4dae69d19",
    "_uuid": "8f2839f25d086af736a60e9eeb907d3b93b6e0e5",
    "execution": {
     "iopub.execute_input": "2022-04-05T08:19:49.882212Z",
     "iopub.status.busy": "2022-04-05T08:19:49.881514Z",
     "iopub.status.idle": "2022-04-05T08:19:49.887985Z",
     "shell.execute_reply": "2022-04-05T08:19:49.887320Z",
     "shell.execute_reply.started": "2022-04-05T07:59:28.718298Z"
    },
    "papermill": {
     "duration": 0.092603,
     "end_time": "2022-04-05T08:19:49.888185",
     "exception": false,
     "start_time": "2022-04-05T08:19:49.795582",
     "status": "completed"
    },
    "tags": []
   },
   "outputs": [
    {
     "name": "stdout",
     "output_type": "stream",
     "text": [
      "/kaggle/input/spaceship-titanic/sample_submission.csv\n",
      "/kaggle/input/spaceship-titanic/train.csv\n",
      "/kaggle/input/spaceship-titanic/test.csv\n"
     ]
    }
   ],
   "source": [
    "\n",
    "# This Python 3 environment comes with many helpful analytics libraries installed\n",
    "# It is defined by the kaggle/python Docker image: https://github.com/kaggle/docker-python\n",
    "# For example, here's several helpful packages to load\n",
    "\n",
    "import numpy as np # linear algebra\n",
    "import pandas as pd # data processing, CSV file I/O (e.g. pd.read_csv)\n",
    "\n",
    "# Input data files are available in the read-only \"../input/\" directory\n",
    "# For example, running this (by clicking run or pressing Shift+Enter) will list all files under the input directory\n",
    "\n",
    "import os\n",
    "for dirname, _, filenames in os.walk('/kaggle/input'):\n",
    "    for filename in filenames:\n",
    "        print(os.path.join(dirname, filename))\n",
    "\n",
    "# You can write up to 20GB to the current directory (/kaggle/working/) that gets preserved as output when you create a version using \"Save & Run All\" \n",
    "# You can also write temporary files to /kaggle/temp/, but they won't be saved outside of the current session"
   ]
  },
  {
   "cell_type": "code",
   "execution_count": null,
   "id": "58431106",
   "metadata": {
    "papermill": {
     "duration": 0.077612,
     "end_time": "2022-04-05T08:19:50.045078",
     "exception": false,
     "start_time": "2022-04-05T08:19:49.967466",
     "status": "completed"
    },
    "tags": []
   },
   "outputs": [],
   "source": []
  },
  {
   "cell_type": "markdown",
   "id": "438194bd",
   "metadata": {
    "papermill": {
     "duration": 0.077028,
     "end_time": "2022-04-05T08:19:50.198458",
     "exception": false,
     "start_time": "2022-04-05T08:19:50.121430",
     "status": "completed"
    },
    "tags": []
   },
   "source": [
    "# step 1. 라이브러리 및 데이터 불러오기\n",
    "- 라이브러리를 불러온다."
   ]
  },
  {
   "cell_type": "code",
   "execution_count": 2,
   "id": "f9e6a50c",
   "metadata": {
    "execution": {
     "iopub.execute_input": "2022-04-05T08:19:50.364111Z",
     "iopub.status.busy": "2022-04-05T08:19:50.362133Z",
     "iopub.status.idle": "2022-04-05T08:19:50.367392Z",
     "shell.execute_reply": "2022-04-05T08:19:50.368386Z",
     "shell.execute_reply.started": "2022-04-05T07:59:31.981876Z"
    },
    "papermill": {
     "duration": 0.089043,
     "end_time": "2022-04-05T08:19:50.368723",
     "exception": false,
     "start_time": "2022-04-05T08:19:50.279680",
     "status": "completed"
    },
    "tags": []
   },
   "outputs": [
    {
     "name": "stdout",
     "output_type": "stream",
     "text": [
      "1.20.3\n",
      "1.3.5\n"
     ]
    }
   ],
   "source": [
    "# preprocessing\n",
    "import numpy as np\n",
    "print(np.__version__)\n",
    "import pandas as pd\n",
    "print(pd.__version__)"
   ]
  },
  {
   "cell_type": "code",
   "execution_count": 3,
   "id": "81e3ae49",
   "metadata": {
    "execution": {
     "iopub.execute_input": "2022-04-05T08:19:50.529386Z",
     "iopub.status.busy": "2022-04-05T08:19:50.528714Z",
     "iopub.status.idle": "2022-04-05T08:19:52.622379Z",
     "shell.execute_reply": "2022-04-05T08:19:52.621802Z",
     "shell.execute_reply.started": "2022-04-05T07:59:37.002687Z"
    },
    "papermill": {
     "duration": 2.173956,
     "end_time": "2022-04-05T08:19:52.622544",
     "exception": false,
     "start_time": "2022-04-05T08:19:50.448588",
     "status": "completed"
    },
    "tags": []
   },
   "outputs": [],
   "source": [
    "# visualization\n",
    "import seaborn as sns\n",
    "import plotly.express as px\n",
    "import matplotlib.pyplot as plt\n",
    "import plotly.graph_objects as go\n",
    "from plotly.subplots import make_subplots"
   ]
  },
  {
   "cell_type": "code",
   "execution_count": 4,
   "id": "802440ac",
   "metadata": {
    "execution": {
     "iopub.execute_input": "2022-04-05T08:19:52.784693Z",
     "iopub.status.busy": "2022-04-05T08:19:52.784006Z",
     "iopub.status.idle": "2022-04-05T08:19:53.057519Z",
     "shell.execute_reply": "2022-04-05T08:19:53.056965Z",
     "shell.execute_reply.started": "2022-04-05T07:59:39.928803Z"
    },
    "papermill": {
     "duration": 0.355534,
     "end_time": "2022-04-05T08:19:53.057674",
     "exception": false,
     "start_time": "2022-04-05T08:19:52.702140",
     "status": "completed"
    },
    "tags": []
   },
   "outputs": [],
   "source": [
    "# Missing Value processing\n",
    "from sklearn.impute import SimpleImputer"
   ]
  },
  {
   "cell_type": "code",
   "execution_count": 5,
   "id": "2656d12c",
   "metadata": {
    "execution": {
     "iopub.execute_input": "2022-04-05T08:19:53.216267Z",
     "iopub.status.busy": "2022-04-05T08:19:53.215581Z",
     "iopub.status.idle": "2022-04-05T08:19:53.224076Z",
     "shell.execute_reply": "2022-04-05T08:19:53.224559Z",
     "shell.execute_reply.started": "2022-04-05T07:59:42.913090Z"
    },
    "papermill": {
     "duration": 0.090591,
     "end_time": "2022-04-05T08:19:53.224739",
     "exception": false,
     "start_time": "2022-04-05T08:19:53.134148",
     "status": "completed"
    },
    "tags": []
   },
   "outputs": [],
   "source": [
    "# Encoding\n",
    "from sklearn.preprocessing import OrdinalEncoder\n",
    "from sklearn.preprocessing import OneHotEncoder\n",
    "from sklearn.compose import make_column_transformer"
   ]
  },
  {
   "cell_type": "code",
   "execution_count": 6,
   "id": "3538e1ad",
   "metadata": {
    "execution": {
     "iopub.execute_input": "2022-04-05T08:19:53.385996Z",
     "iopub.status.busy": "2022-04-05T08:19:53.385325Z",
     "iopub.status.idle": "2022-04-05T08:19:53.387040Z",
     "shell.execute_reply": "2022-04-05T08:19:53.387623Z",
     "shell.execute_reply.started": "2022-04-05T07:59:44.898586Z"
    },
    "papermill": {
     "duration": 0.085544,
     "end_time": "2022-04-05T08:19:53.387783",
     "exception": false,
     "start_time": "2022-04-05T08:19:53.302239",
     "status": "completed"
    },
    "tags": []
   },
   "outputs": [],
   "source": [
    "# Split\n",
    "from sklearn.model_selection import train_test_split"
   ]
  },
  {
   "cell_type": "code",
   "execution_count": 7,
   "id": "b681effb",
   "metadata": {
    "execution": {
     "iopub.execute_input": "2022-04-05T08:19:53.544817Z",
     "iopub.status.busy": "2022-04-05T08:19:53.544190Z",
     "iopub.status.idle": "2022-04-05T08:19:54.269600Z",
     "shell.execute_reply": "2022-04-05T08:19:54.269044Z",
     "shell.execute_reply.started": "2022-04-05T07:59:46.457964Z"
    },
    "papermill": {
     "duration": 0.804844,
     "end_time": "2022-04-05T08:19:54.269755",
     "exception": false,
     "start_time": "2022-04-05T08:19:53.464911",
     "status": "completed"
    },
    "tags": []
   },
   "outputs": [
    {
     "data": {
      "text/html": [
       "<style type='text/css'>\n",
       ".datatable table.frame { margin-bottom: 0; }\n",
       ".datatable table.frame thead { border-bottom: none; }\n",
       ".datatable table.frame tr.coltypes td {  color: #FFFFFF;  line-height: 6px;  padding: 0 0.5em;}\n",
       ".datatable .bool    { background: #DDDD99; }\n",
       ".datatable .object  { background: #565656; }\n",
       ".datatable .int     { background: #5D9E5D; }\n",
       ".datatable .float   { background: #4040CC; }\n",
       ".datatable .str     { background: #CC4040; }\n",
       ".datatable .time    { background: #40CC40; }\n",
       ".datatable .row_index {  background: var(--jp-border-color3);  border-right: 1px solid var(--jp-border-color0);  color: var(--jp-ui-font-color3);  font-size: 9px;}\n",
       ".datatable .frame tbody td { text-align: left; }\n",
       ".datatable .frame tr.coltypes .row_index {  background: var(--jp-border-color0);}\n",
       ".datatable th:nth-child(2) { padding-left: 12px; }\n",
       ".datatable .hellipsis {  color: var(--jp-cell-editor-border-color);}\n",
       ".datatable .vellipsis {  background: var(--jp-layout-color0);  color: var(--jp-cell-editor-border-color);}\n",
       ".datatable .na {  color: var(--jp-cell-editor-border-color);  font-size: 80%;}\n",
       ".datatable .sp {  opacity: 0.25;}\n",
       ".datatable .footer { font-size: 9px; }\n",
       ".datatable .frame_dimensions {  background: var(--jp-border-color3);  border-top: 1px solid var(--jp-border-color0);  color: var(--jp-ui-font-color3);  display: inline-block;  opacity: 0.6;  padding: 1px 10px 1px 5px;}\n",
       "</style>\n"
      ],
      "text/plain": [
       "<IPython.core.display.HTML object>"
      ]
     },
     "metadata": {},
     "output_type": "display_data"
    }
   ],
   "source": [
    "# Models\n",
    "from lightgbm import LGBMClassifier\n",
    "from sklearn.linear_model import LogisticRegression\n",
    "from sklearn.neighbors import KNeighborsClassifier\n",
    "from sklearn.svm import SVC\n",
    "from sklearn.tree import DecisionTreeClassifier\n",
    "from sklearn.ensemble import RandomForestClassifier\n",
    "from xgboost import XGBClassifier\n",
    "from catboost import CatBoostClassifier\n",
    "from sklearn.naive_bayes import GaussianNB"
   ]
  },
  {
   "cell_type": "code",
   "execution_count": 8,
   "id": "4dcf0ebd",
   "metadata": {
    "execution": {
     "iopub.execute_input": "2022-04-05T08:19:54.433444Z",
     "iopub.status.busy": "2022-04-05T08:19:54.432717Z",
     "iopub.status.idle": "2022-04-05T08:19:54.434413Z",
     "shell.execute_reply": "2022-04-05T08:19:54.434871Z",
     "shell.execute_reply.started": "2022-04-05T07:59:48.623789Z"
    },
    "papermill": {
     "duration": 0.086496,
     "end_time": "2022-04-05T08:19:54.435060",
     "exception": false,
     "start_time": "2022-04-05T08:19:54.348564",
     "status": "completed"
    },
    "tags": []
   },
   "outputs": [],
   "source": [
    "# Cross\n",
    "from sklearn.model_selection import GridSearchCV, RandomizedSearchCV, StratifiedKFold\n",
    "import time"
   ]
  },
  {
   "cell_type": "markdown",
   "id": "08340149",
   "metadata": {
    "papermill": {
     "duration": 0.076758,
     "end_time": "2022-04-05T08:19:54.589878",
     "exception": false,
     "start_time": "2022-04-05T08:19:54.513120",
     "status": "completed"
    },
    "tags": []
   },
   "source": [
    "## 데이터 불러오기\n",
    "- 훈련 데이터는 8,693개, 테스트 데이터는 4,277개."
   ]
  },
  {
   "cell_type": "code",
   "execution_count": 9,
   "id": "1e944ca0",
   "metadata": {
    "execution": {
     "iopub.execute_input": "2022-04-05T08:19:54.748945Z",
     "iopub.status.busy": "2022-04-05T08:19:54.748294Z",
     "iopub.status.idle": "2022-04-05T08:19:54.838319Z",
     "shell.execute_reply": "2022-04-05T08:19:54.837782Z",
     "shell.execute_reply.started": "2022-04-05T07:59:55.231989Z"
    },
    "papermill": {
     "duration": 0.170609,
     "end_time": "2022-04-05T08:19:54.838474",
     "exception": false,
     "start_time": "2022-04-05T08:19:54.667865",
     "status": "completed"
    },
    "tags": []
   },
   "outputs": [
    {
     "name": "stdout",
     "output_type": "stream",
     "text": [
      "(8693, 14)\n",
      "(4277, 13)\n",
      "(4277, 2)\n"
     ]
    }
   ],
   "source": [
    "train_data = pd.read_csv(\"../input/spaceship-titanic/train.csv\")\n",
    "test_data = pd.read_csv(\"../input/spaceship-titanic/test.csv\")\n",
    "sample_submission = pd.read_csv(\"../input/spaceship-titanic/sample_submission.csv\")\n",
    "\n",
    "\n",
    "\n",
    "print(train_data.shape)\n",
    "print(test_data.shape)\n",
    "print(sample_submission.shape)"
   ]
  },
  {
   "cell_type": "markdown",
   "id": "856d2823",
   "metadata": {
    "papermill": {
     "duration": 0.07813,
     "end_time": "2022-04-05T08:19:54.994687",
     "exception": false,
     "start_time": "2022-04-05T08:19:54.916557",
     "status": "completed"
    },
    "tags": []
   },
   "source": [
    "## Column 설명\n",
    "- PassengerId는 \"AAAA_BB\"형태이다. AAAA는 그룹을 나타내고, BB는 그룹안에서의 개개인을 지칭한다.\n",
    "- HomePlanet은 고향별을 나타낸다.\n",
    "- CryoSleep은 여행중에 냉동수면 여부를 나타낸다.\n",
    "- cabin은 승객이 머무르는 공간을 나타낸다. deck/number/side 형태로 구성된다. side의 P는 Port를 나타내고, S는 Starboard를 나타낸다.\n",
    "- Age는 승객의 나이이다.\n",
    "- VIP는 승객이 special VIP service 비용을 지불했는지를 보여준다.\n",
    "- RoomService, FoodCourt, ShoppingMall, Spa, VRDeck는 각각 우주선의 편의시설에 승객이 비용을 지불했는지를 나타낸다.\n",
    "- Name은 승객의 이름으로, first name, last name 순이다.\n",
    "- Transported 칼럼이 타깃 데이터이다. 승객이 다른 차원으로 운송되었는지 여부를 보여준다. 훈련 데이터에는 Transported 칼럼이 있고, 테스트 데이터에는 Transported 칼럼이 있다. Transported 칼럼을 예측해야 할 것이다."
   ]
  },
  {
   "cell_type": "markdown",
   "id": "b5f78d87",
   "metadata": {
    "papermill": {
     "duration": 0.077882,
     "end_time": "2022-04-05T08:19:55.150656",
     "exception": false,
     "start_time": "2022-04-05T08:19:55.072774",
     "status": "completed"
    },
    "tags": []
   },
   "source": [
    "## train data\n",
    "- 훈련 데이터를 살펴본다.\n",
    "- 훈련 데이터에는 14개의 열이 있고, 8,693개의 행(샘플)이 있다.\n",
    "- 훈련 데이터에는 119,378개의 특성이 있다.\n",
    "- 훈련 데이터안에는 2,324개의 결측치가 있다.\n",
    "- Transported 열은 훈련 데이터 안에서만 사용할 수 있다.\n",
    "- 14개의 열 중에서 CryoSleep 열 안에 217개로 가장 많은 결측치가 있다. "
   ]
  },
  {
   "cell_type": "code",
   "execution_count": 10,
   "id": "a3e18ba1",
   "metadata": {
    "execution": {
     "iopub.execute_input": "2022-04-05T08:19:55.309312Z",
     "iopub.status.busy": "2022-04-05T08:19:55.308620Z",
     "iopub.status.idle": "2022-04-05T08:19:55.333417Z",
     "shell.execute_reply": "2022-04-05T08:19:55.334021Z",
     "shell.execute_reply.started": "2022-04-05T07:59:59.097769Z"
    },
    "papermill": {
     "duration": 0.104985,
     "end_time": "2022-04-05T08:19:55.334203",
     "exception": false,
     "start_time": "2022-04-05T08:19:55.229218",
     "status": "completed"
    },
    "tags": []
   },
   "outputs": [
    {
     "data": {
      "text/html": [
       "<div>\n",
       "<style scoped>\n",
       "    .dataframe tbody tr th:only-of-type {\n",
       "        vertical-align: middle;\n",
       "    }\n",
       "\n",
       "    .dataframe tbody tr th {\n",
       "        vertical-align: top;\n",
       "    }\n",
       "\n",
       "    .dataframe thead th {\n",
       "        text-align: right;\n",
       "    }\n",
       "</style>\n",
       "<table border=\"1\" class=\"dataframe\">\n",
       "  <thead>\n",
       "    <tr style=\"text-align: right;\">\n",
       "      <th></th>\n",
       "      <th>PassengerId</th>\n",
       "      <th>HomePlanet</th>\n",
       "      <th>CryoSleep</th>\n",
       "      <th>Cabin</th>\n",
       "      <th>Destination</th>\n",
       "      <th>Age</th>\n",
       "      <th>VIP</th>\n",
       "      <th>RoomService</th>\n",
       "      <th>FoodCourt</th>\n",
       "      <th>ShoppingMall</th>\n",
       "      <th>Spa</th>\n",
       "      <th>VRDeck</th>\n",
       "      <th>Name</th>\n",
       "      <th>Transported</th>\n",
       "    </tr>\n",
       "  </thead>\n",
       "  <tbody>\n",
       "    <tr>\n",
       "      <th>0</th>\n",
       "      <td>0001_01</td>\n",
       "      <td>Europa</td>\n",
       "      <td>False</td>\n",
       "      <td>B/0/P</td>\n",
       "      <td>TRAPPIST-1e</td>\n",
       "      <td>39.0</td>\n",
       "      <td>False</td>\n",
       "      <td>0.0</td>\n",
       "      <td>0.0</td>\n",
       "      <td>0.0</td>\n",
       "      <td>0.0</td>\n",
       "      <td>0.0</td>\n",
       "      <td>Maham Ofracculy</td>\n",
       "      <td>False</td>\n",
       "    </tr>\n",
       "    <tr>\n",
       "      <th>1</th>\n",
       "      <td>0002_01</td>\n",
       "      <td>Earth</td>\n",
       "      <td>False</td>\n",
       "      <td>F/0/S</td>\n",
       "      <td>TRAPPIST-1e</td>\n",
       "      <td>24.0</td>\n",
       "      <td>False</td>\n",
       "      <td>109.0</td>\n",
       "      <td>9.0</td>\n",
       "      <td>25.0</td>\n",
       "      <td>549.0</td>\n",
       "      <td>44.0</td>\n",
       "      <td>Juanna Vines</td>\n",
       "      <td>True</td>\n",
       "    </tr>\n",
       "    <tr>\n",
       "      <th>2</th>\n",
       "      <td>0003_01</td>\n",
       "      <td>Europa</td>\n",
       "      <td>False</td>\n",
       "      <td>A/0/S</td>\n",
       "      <td>TRAPPIST-1e</td>\n",
       "      <td>58.0</td>\n",
       "      <td>True</td>\n",
       "      <td>43.0</td>\n",
       "      <td>3576.0</td>\n",
       "      <td>0.0</td>\n",
       "      <td>6715.0</td>\n",
       "      <td>49.0</td>\n",
       "      <td>Altark Susent</td>\n",
       "      <td>False</td>\n",
       "    </tr>\n",
       "    <tr>\n",
       "      <th>3</th>\n",
       "      <td>0003_02</td>\n",
       "      <td>Europa</td>\n",
       "      <td>False</td>\n",
       "      <td>A/0/S</td>\n",
       "      <td>TRAPPIST-1e</td>\n",
       "      <td>33.0</td>\n",
       "      <td>False</td>\n",
       "      <td>0.0</td>\n",
       "      <td>1283.0</td>\n",
       "      <td>371.0</td>\n",
       "      <td>3329.0</td>\n",
       "      <td>193.0</td>\n",
       "      <td>Solam Susent</td>\n",
       "      <td>False</td>\n",
       "    </tr>\n",
       "    <tr>\n",
       "      <th>4</th>\n",
       "      <td>0004_01</td>\n",
       "      <td>Earth</td>\n",
       "      <td>False</td>\n",
       "      <td>F/1/S</td>\n",
       "      <td>TRAPPIST-1e</td>\n",
       "      <td>16.0</td>\n",
       "      <td>False</td>\n",
       "      <td>303.0</td>\n",
       "      <td>70.0</td>\n",
       "      <td>151.0</td>\n",
       "      <td>565.0</td>\n",
       "      <td>2.0</td>\n",
       "      <td>Willy Santantines</td>\n",
       "      <td>True</td>\n",
       "    </tr>\n",
       "  </tbody>\n",
       "</table>\n",
       "</div>"
      ],
      "text/plain": [
       "  PassengerId HomePlanet CryoSleep  Cabin  Destination   Age    VIP  \\\n",
       "0     0001_01     Europa     False  B/0/P  TRAPPIST-1e  39.0  False   \n",
       "1     0002_01      Earth     False  F/0/S  TRAPPIST-1e  24.0  False   \n",
       "2     0003_01     Europa     False  A/0/S  TRAPPIST-1e  58.0   True   \n",
       "3     0003_02     Europa     False  A/0/S  TRAPPIST-1e  33.0  False   \n",
       "4     0004_01      Earth     False  F/1/S  TRAPPIST-1e  16.0  False   \n",
       "\n",
       "   RoomService  FoodCourt  ShoppingMall     Spa  VRDeck               Name  \\\n",
       "0          0.0        0.0           0.0     0.0     0.0    Maham Ofracculy   \n",
       "1        109.0        9.0          25.0   549.0    44.0       Juanna Vines   \n",
       "2         43.0     3576.0           0.0  6715.0    49.0      Altark Susent   \n",
       "3          0.0     1283.0         371.0  3329.0   193.0       Solam Susent   \n",
       "4        303.0       70.0         151.0   565.0     2.0  Willy Santantines   \n",
       "\n",
       "   Transported  \n",
       "0        False  \n",
       "1         True  \n",
       "2        False  \n",
       "3        False  \n",
       "4         True  "
      ]
     },
     "execution_count": 10,
     "metadata": {},
     "output_type": "execute_result"
    }
   ],
   "source": [
    "# first 5 rows of train dataset\n",
    "train_data.head()"
   ]
  },
  {
   "cell_type": "code",
   "execution_count": 11,
   "id": "d0bba1cf",
   "metadata": {
    "execution": {
     "iopub.execute_input": "2022-04-05T08:19:55.498114Z",
     "iopub.status.busy": "2022-04-05T08:19:55.497114Z",
     "iopub.status.idle": "2022-04-05T08:19:55.528222Z",
     "shell.execute_reply": "2022-04-05T08:19:55.527316Z",
     "shell.execute_reply.started": "2022-04-05T08:00:01.506588Z"
    },
    "papermill": {
     "duration": 0.11395,
     "end_time": "2022-04-05T08:19:55.528420",
     "exception": false,
     "start_time": "2022-04-05T08:19:55.414470",
     "status": "completed"
    },
    "tags": []
   },
   "outputs": [
    {
     "name": "stdout",
     "output_type": "stream",
     "text": [
      "<class 'pandas.core.frame.DataFrame'>\n",
      "RangeIndex: 8693 entries, 0 to 8692\n",
      "Data columns (total 14 columns):\n",
      " #   Column        Non-Null Count  Dtype  \n",
      "---  ------        --------------  -----  \n",
      " 0   PassengerId   8693 non-null   object \n",
      " 1   HomePlanet    8492 non-null   object \n",
      " 2   CryoSleep     8476 non-null   object \n",
      " 3   Cabin         8494 non-null   object \n",
      " 4   Destination   8511 non-null   object \n",
      " 5   Age           8514 non-null   float64\n",
      " 6   VIP           8490 non-null   object \n",
      " 7   RoomService   8512 non-null   float64\n",
      " 8   FoodCourt     8510 non-null   float64\n",
      " 9   ShoppingMall  8485 non-null   float64\n",
      " 10  Spa           8510 non-null   float64\n",
      " 11  VRDeck        8505 non-null   float64\n",
      " 12  Name          8493 non-null   object \n",
      " 13  Transported   8693 non-null   bool   \n",
      "dtypes: bool(1), float64(6), object(7)\n",
      "memory usage: 891.5+ KB\n"
     ]
    }
   ],
   "source": [
    "train_data.info()"
   ]
  },
  {
   "cell_type": "code",
   "execution_count": 12,
   "id": "d3e0e2b2",
   "metadata": {
    "execution": {
     "iopub.execute_input": "2022-04-05T08:19:55.700296Z",
     "iopub.status.busy": "2022-04-05T08:19:55.699582Z",
     "iopub.status.idle": "2022-04-05T08:19:55.713688Z",
     "shell.execute_reply": "2022-04-05T08:19:55.713046Z",
     "shell.execute_reply.started": "2022-04-05T08:00:03.650367Z"
    },
    "papermill": {
     "duration": 0.105527,
     "end_time": "2022-04-05T08:19:55.713836",
     "exception": false,
     "start_time": "2022-04-05T08:19:55.608309",
     "status": "completed"
    },
    "tags": []
   },
   "outputs": [
    {
     "name": "stdout",
     "output_type": "stream",
     "text": [
      "\u001b[94mNumber of rows in train data: 8693\n",
      "\u001b[95mNumber of columns in train data: 14\n",
      "\u001b[92mNumber of vlaues in train data: 119378\n",
      "\u001b[93mNumber of with missing values in train date: 2324\n"
     ]
    }
   ],
   "source": [
    "\n",
    "print(f'\\033[94mNumber of rows in train data: {train_data.shape[0]}')\n",
    "print(f'\\033[95mNumber of columns in train data: {train_data.shape[1]}')\n",
    "print(f'\\033[92mNumber of vlaues in train data: {train_data.count().sum()}')\n",
    "print(f'\\033[93mNumber of with missing values in train date: {sum(train_data.isna().sum())}')"
   ]
  },
  {
   "cell_type": "code",
   "execution_count": 13,
   "id": "3cbdc6c0",
   "metadata": {
    "execution": {
     "iopub.execute_input": "2022-04-05T08:19:55.876510Z",
     "iopub.status.busy": "2022-04-05T08:19:55.875716Z",
     "iopub.status.idle": "2022-04-05T08:19:55.890405Z",
     "shell.execute_reply": "2022-04-05T08:19:55.890894Z",
     "shell.execute_reply.started": "2022-04-05T08:00:06.097152Z"
    },
    "papermill": {
     "duration": 0.097678,
     "end_time": "2022-04-05T08:19:55.891107",
     "exception": false,
     "start_time": "2022-04-05T08:19:55.793429",
     "status": "completed"
    },
    "tags": []
   },
   "outputs": [
    {
     "name": "stdout",
     "output_type": "stream",
     "text": [
      "CryoSleep       217\n",
      "ShoppingMall    208\n",
      "VIP             203\n",
      "HomePlanet      201\n",
      "Name            200\n",
      "Cabin           199\n",
      "VRDeck          188\n",
      "FoodCourt       183\n",
      "Spa             183\n",
      "Destination     182\n",
      "RoomService     181\n",
      "Age             179\n",
      "PassengerId       0\n",
      "Transported       0\n",
      "dtype: int64\n"
     ]
    }
   ],
   "source": [
    "print(train_data.isna().sum().sort_values(ascending = False))"
   ]
  },
  {
   "cell_type": "markdown",
   "id": "1c961bc8",
   "metadata": {
    "papermill": {
     "duration": 0.079545,
     "end_time": "2022-04-05T08:19:56.049195",
     "exception": false,
     "start_time": "2022-04-05T08:19:55.969650",
     "status": "completed"
    },
    "tags": []
   },
   "source": [
    "- 갯수, 평균, 표준편차, 최솟값, 최댓값, 4분위수 등의 기초 통계량을 확인한다."
   ]
  },
  {
   "cell_type": "code",
   "execution_count": 14,
   "id": "3030bde6",
   "metadata": {
    "execution": {
     "iopub.execute_input": "2022-04-05T08:19:56.212067Z",
     "iopub.status.busy": "2022-04-05T08:19:56.211381Z",
     "iopub.status.idle": "2022-04-05T08:19:56.242705Z",
     "shell.execute_reply": "2022-04-05T08:19:56.242210Z",
     "shell.execute_reply.started": "2022-04-05T08:00:08.392584Z"
    },
    "papermill": {
     "duration": 0.112753,
     "end_time": "2022-04-05T08:19:56.242855",
     "exception": false,
     "start_time": "2022-04-05T08:19:56.130102",
     "status": "completed"
    },
    "tags": []
   },
   "outputs": [
    {
     "data": {
      "text/html": [
       "<div>\n",
       "<style scoped>\n",
       "    .dataframe tbody tr th:only-of-type {\n",
       "        vertical-align: middle;\n",
       "    }\n",
       "\n",
       "    .dataframe tbody tr th {\n",
       "        vertical-align: top;\n",
       "    }\n",
       "\n",
       "    .dataframe thead th {\n",
       "        text-align: right;\n",
       "    }\n",
       "</style>\n",
       "<table border=\"1\" class=\"dataframe\">\n",
       "  <thead>\n",
       "    <tr style=\"text-align: right;\">\n",
       "      <th></th>\n",
       "      <th>Age</th>\n",
       "      <th>RoomService</th>\n",
       "      <th>FoodCourt</th>\n",
       "      <th>ShoppingMall</th>\n",
       "      <th>Spa</th>\n",
       "      <th>VRDeck</th>\n",
       "    </tr>\n",
       "  </thead>\n",
       "  <tbody>\n",
       "    <tr>\n",
       "      <th>count</th>\n",
       "      <td>8514.000000</td>\n",
       "      <td>8512.000000</td>\n",
       "      <td>8510.000000</td>\n",
       "      <td>8485.000000</td>\n",
       "      <td>8510.000000</td>\n",
       "      <td>8505.000000</td>\n",
       "    </tr>\n",
       "    <tr>\n",
       "      <th>mean</th>\n",
       "      <td>28.827930</td>\n",
       "      <td>224.687617</td>\n",
       "      <td>458.077203</td>\n",
       "      <td>173.729169</td>\n",
       "      <td>311.138778</td>\n",
       "      <td>304.854791</td>\n",
       "    </tr>\n",
       "    <tr>\n",
       "      <th>std</th>\n",
       "      <td>14.489021</td>\n",
       "      <td>666.717663</td>\n",
       "      <td>1611.489240</td>\n",
       "      <td>604.696458</td>\n",
       "      <td>1136.705535</td>\n",
       "      <td>1145.717189</td>\n",
       "    </tr>\n",
       "    <tr>\n",
       "      <th>min</th>\n",
       "      <td>0.000000</td>\n",
       "      <td>0.000000</td>\n",
       "      <td>0.000000</td>\n",
       "      <td>0.000000</td>\n",
       "      <td>0.000000</td>\n",
       "      <td>0.000000</td>\n",
       "    </tr>\n",
       "    <tr>\n",
       "      <th>25%</th>\n",
       "      <td>19.000000</td>\n",
       "      <td>0.000000</td>\n",
       "      <td>0.000000</td>\n",
       "      <td>0.000000</td>\n",
       "      <td>0.000000</td>\n",
       "      <td>0.000000</td>\n",
       "    </tr>\n",
       "    <tr>\n",
       "      <th>50%</th>\n",
       "      <td>27.000000</td>\n",
       "      <td>0.000000</td>\n",
       "      <td>0.000000</td>\n",
       "      <td>0.000000</td>\n",
       "      <td>0.000000</td>\n",
       "      <td>0.000000</td>\n",
       "    </tr>\n",
       "    <tr>\n",
       "      <th>75%</th>\n",
       "      <td>38.000000</td>\n",
       "      <td>47.000000</td>\n",
       "      <td>76.000000</td>\n",
       "      <td>27.000000</td>\n",
       "      <td>59.000000</td>\n",
       "      <td>46.000000</td>\n",
       "    </tr>\n",
       "    <tr>\n",
       "      <th>max</th>\n",
       "      <td>79.000000</td>\n",
       "      <td>14327.000000</td>\n",
       "      <td>29813.000000</td>\n",
       "      <td>23492.000000</td>\n",
       "      <td>22408.000000</td>\n",
       "      <td>24133.000000</td>\n",
       "    </tr>\n",
       "  </tbody>\n",
       "</table>\n",
       "</div>"
      ],
      "text/plain": [
       "               Age   RoomService     FoodCourt  ShoppingMall           Spa  \\\n",
       "count  8514.000000   8512.000000   8510.000000   8485.000000   8510.000000   \n",
       "mean     28.827930    224.687617    458.077203    173.729169    311.138778   \n",
       "std      14.489021    666.717663   1611.489240    604.696458   1136.705535   \n",
       "min       0.000000      0.000000      0.000000      0.000000      0.000000   \n",
       "25%      19.000000      0.000000      0.000000      0.000000      0.000000   \n",
       "50%      27.000000      0.000000      0.000000      0.000000      0.000000   \n",
       "75%      38.000000     47.000000     76.000000     27.000000     59.000000   \n",
       "max      79.000000  14327.000000  29813.000000  23492.000000  22408.000000   \n",
       "\n",
       "             VRDeck  \n",
       "count   8505.000000  \n",
       "mean     304.854791  \n",
       "std     1145.717189  \n",
       "min        0.000000  \n",
       "25%        0.000000  \n",
       "50%        0.000000  \n",
       "75%       46.000000  \n",
       "max    24133.000000  "
      ]
     },
     "execution_count": 14,
     "metadata": {},
     "output_type": "execute_result"
    }
   ],
   "source": [
    "train_data.describe()"
   ]
  },
  {
   "cell_type": "markdown",
   "id": "129febea",
   "metadata": {
    "papermill": {
     "duration": 0.082231,
     "end_time": "2022-04-05T08:19:56.405683",
     "exception": false,
     "start_time": "2022-04-05T08:19:56.323452",
     "status": "completed"
    },
    "tags": []
   },
   "source": [
    "## test data\n",
    "- 테스트 데이터에는 13개의 열이 있고, 4,277개의 행(샘플)이 있다.\n",
    "- 테스트 데이터에는 54,484개의 특성이 있다.\n",
    "- 훈련 데이터안에는 1,117개의 결측치가 있다.\n",
    "- 13개의 열 중에서 FoodCourt 열 안에 217개로 가장 많은 결측치가 있다.\n",
    "- 종속변수는 Transported임을 알 수 있다."
   ]
  },
  {
   "cell_type": "code",
   "execution_count": 15,
   "id": "4b604273",
   "metadata": {
    "execution": {
     "iopub.execute_input": "2022-04-05T08:19:56.573658Z",
     "iopub.status.busy": "2022-04-05T08:19:56.573046Z",
     "iopub.status.idle": "2022-04-05T08:19:56.591268Z",
     "shell.execute_reply": "2022-04-05T08:19:56.591762Z",
     "shell.execute_reply.started": "2022-04-05T08:00:10.982694Z"
    },
    "papermill": {
     "duration": 0.103499,
     "end_time": "2022-04-05T08:19:56.591980",
     "exception": false,
     "start_time": "2022-04-05T08:19:56.488481",
     "status": "completed"
    },
    "tags": []
   },
   "outputs": [
    {
     "data": {
      "text/html": [
       "<div>\n",
       "<style scoped>\n",
       "    .dataframe tbody tr th:only-of-type {\n",
       "        vertical-align: middle;\n",
       "    }\n",
       "\n",
       "    .dataframe tbody tr th {\n",
       "        vertical-align: top;\n",
       "    }\n",
       "\n",
       "    .dataframe thead th {\n",
       "        text-align: right;\n",
       "    }\n",
       "</style>\n",
       "<table border=\"1\" class=\"dataframe\">\n",
       "  <thead>\n",
       "    <tr style=\"text-align: right;\">\n",
       "      <th></th>\n",
       "      <th>PassengerId</th>\n",
       "      <th>HomePlanet</th>\n",
       "      <th>CryoSleep</th>\n",
       "      <th>Cabin</th>\n",
       "      <th>Destination</th>\n",
       "      <th>Age</th>\n",
       "      <th>VIP</th>\n",
       "      <th>RoomService</th>\n",
       "      <th>FoodCourt</th>\n",
       "      <th>ShoppingMall</th>\n",
       "      <th>Spa</th>\n",
       "      <th>VRDeck</th>\n",
       "      <th>Name</th>\n",
       "    </tr>\n",
       "  </thead>\n",
       "  <tbody>\n",
       "    <tr>\n",
       "      <th>0</th>\n",
       "      <td>0013_01</td>\n",
       "      <td>Earth</td>\n",
       "      <td>True</td>\n",
       "      <td>G/3/S</td>\n",
       "      <td>TRAPPIST-1e</td>\n",
       "      <td>27.0</td>\n",
       "      <td>False</td>\n",
       "      <td>0.0</td>\n",
       "      <td>0.0</td>\n",
       "      <td>0.0</td>\n",
       "      <td>0.0</td>\n",
       "      <td>0.0</td>\n",
       "      <td>Nelly Carsoning</td>\n",
       "    </tr>\n",
       "    <tr>\n",
       "      <th>1</th>\n",
       "      <td>0018_01</td>\n",
       "      <td>Earth</td>\n",
       "      <td>False</td>\n",
       "      <td>F/4/S</td>\n",
       "      <td>TRAPPIST-1e</td>\n",
       "      <td>19.0</td>\n",
       "      <td>False</td>\n",
       "      <td>0.0</td>\n",
       "      <td>9.0</td>\n",
       "      <td>0.0</td>\n",
       "      <td>2823.0</td>\n",
       "      <td>0.0</td>\n",
       "      <td>Lerome Peckers</td>\n",
       "    </tr>\n",
       "    <tr>\n",
       "      <th>2</th>\n",
       "      <td>0019_01</td>\n",
       "      <td>Europa</td>\n",
       "      <td>True</td>\n",
       "      <td>C/0/S</td>\n",
       "      <td>55 Cancri e</td>\n",
       "      <td>31.0</td>\n",
       "      <td>False</td>\n",
       "      <td>0.0</td>\n",
       "      <td>0.0</td>\n",
       "      <td>0.0</td>\n",
       "      <td>0.0</td>\n",
       "      <td>0.0</td>\n",
       "      <td>Sabih Unhearfus</td>\n",
       "    </tr>\n",
       "    <tr>\n",
       "      <th>3</th>\n",
       "      <td>0021_01</td>\n",
       "      <td>Europa</td>\n",
       "      <td>False</td>\n",
       "      <td>C/1/S</td>\n",
       "      <td>TRAPPIST-1e</td>\n",
       "      <td>38.0</td>\n",
       "      <td>False</td>\n",
       "      <td>0.0</td>\n",
       "      <td>6652.0</td>\n",
       "      <td>0.0</td>\n",
       "      <td>181.0</td>\n",
       "      <td>585.0</td>\n",
       "      <td>Meratz Caltilter</td>\n",
       "    </tr>\n",
       "    <tr>\n",
       "      <th>4</th>\n",
       "      <td>0023_01</td>\n",
       "      <td>Earth</td>\n",
       "      <td>False</td>\n",
       "      <td>F/5/S</td>\n",
       "      <td>TRAPPIST-1e</td>\n",
       "      <td>20.0</td>\n",
       "      <td>False</td>\n",
       "      <td>10.0</td>\n",
       "      <td>0.0</td>\n",
       "      <td>635.0</td>\n",
       "      <td>0.0</td>\n",
       "      <td>0.0</td>\n",
       "      <td>Brence Harperez</td>\n",
       "    </tr>\n",
       "  </tbody>\n",
       "</table>\n",
       "</div>"
      ],
      "text/plain": [
       "  PassengerId HomePlanet CryoSleep  Cabin  Destination   Age    VIP  \\\n",
       "0     0013_01      Earth      True  G/3/S  TRAPPIST-1e  27.0  False   \n",
       "1     0018_01      Earth     False  F/4/S  TRAPPIST-1e  19.0  False   \n",
       "2     0019_01     Europa      True  C/0/S  55 Cancri e  31.0  False   \n",
       "3     0021_01     Europa     False  C/1/S  TRAPPIST-1e  38.0  False   \n",
       "4     0023_01      Earth     False  F/5/S  TRAPPIST-1e  20.0  False   \n",
       "\n",
       "   RoomService  FoodCourt  ShoppingMall     Spa  VRDeck              Name  \n",
       "0          0.0        0.0           0.0     0.0     0.0   Nelly Carsoning  \n",
       "1          0.0        9.0           0.0  2823.0     0.0    Lerome Peckers  \n",
       "2          0.0        0.0           0.0     0.0     0.0   Sabih Unhearfus  \n",
       "3          0.0     6652.0           0.0   181.0   585.0  Meratz Caltilter  \n",
       "4         10.0        0.0         635.0     0.0     0.0   Brence Harperez  "
      ]
     },
     "execution_count": 15,
     "metadata": {},
     "output_type": "execute_result"
    }
   ],
   "source": [
    "# first 5 rows of test data \n",
    "test_data.head()\n"
   ]
  },
  {
   "cell_type": "code",
   "execution_count": 16,
   "id": "529f13ad",
   "metadata": {
    "execution": {
     "iopub.execute_input": "2022-04-05T08:19:56.770219Z",
     "iopub.status.busy": "2022-04-05T08:19:56.762878Z",
     "iopub.status.idle": "2022-04-05T08:19:56.774461Z",
     "shell.execute_reply": "2022-04-05T08:19:56.773868Z",
     "shell.execute_reply.started": "2022-04-05T08:00:13.062043Z"
    },
    "papermill": {
     "duration": 0.10204,
     "end_time": "2022-04-05T08:19:56.774619",
     "exception": false,
     "start_time": "2022-04-05T08:19:56.672579",
     "status": "completed"
    },
    "tags": []
   },
   "outputs": [
    {
     "name": "stdout",
     "output_type": "stream",
     "text": [
      "<class 'pandas.core.frame.DataFrame'>\n",
      "RangeIndex: 4277 entries, 0 to 4276\n",
      "Data columns (total 13 columns):\n",
      " #   Column        Non-Null Count  Dtype  \n",
      "---  ------        --------------  -----  \n",
      " 0   PassengerId   4277 non-null   object \n",
      " 1   HomePlanet    4190 non-null   object \n",
      " 2   CryoSleep     4184 non-null   object \n",
      " 3   Cabin         4177 non-null   object \n",
      " 4   Destination   4185 non-null   object \n",
      " 5   Age           4186 non-null   float64\n",
      " 6   VIP           4184 non-null   object \n",
      " 7   RoomService   4195 non-null   float64\n",
      " 8   FoodCourt     4171 non-null   float64\n",
      " 9   ShoppingMall  4179 non-null   float64\n",
      " 10  Spa           4176 non-null   float64\n",
      " 11  VRDeck        4197 non-null   float64\n",
      " 12  Name          4183 non-null   object \n",
      "dtypes: float64(6), object(7)\n",
      "memory usage: 434.5+ KB\n"
     ]
    }
   ],
   "source": [
    "test_data.info()"
   ]
  },
  {
   "cell_type": "code",
   "execution_count": 17,
   "id": "3c0a56f2",
   "metadata": {
    "execution": {
     "iopub.execute_input": "2022-04-05T08:19:56.943372Z",
     "iopub.status.busy": "2022-04-05T08:19:56.942401Z",
     "iopub.status.idle": "2022-04-05T08:19:56.958263Z",
     "shell.execute_reply": "2022-04-05T08:19:56.958924Z",
     "shell.execute_reply.started": "2022-04-05T08:00:15.157484Z"
    },
    "papermill": {
     "duration": 0.102215,
     "end_time": "2022-04-05T08:19:56.959198",
     "exception": false,
     "start_time": "2022-04-05T08:19:56.856983",
     "status": "completed"
    },
    "tags": []
   },
   "outputs": [
    {
     "name": "stdout",
     "output_type": "stream",
     "text": [
      "\u001b[94mNumber of rows in test data: 4277\n",
      "\u001b[95mNumber of columns in test data: 13\n",
      "\u001b[92mNumber of vlaues in test data: 54484\n",
      "\u001b[93mNumber of rows with missing values in test date: 1117\n"
     ]
    }
   ],
   "source": [
    "print(f'\\033[94mNumber of rows in test data: {test_data.shape[0]}')\n",
    "print(f'\\033[95mNumber of columns in test data: {test_data.shape[1]}')\n",
    "print(f'\\033[92mNumber of vlaues in test data: {test_data.count().sum()}')\n",
    "print(f'\\033[93mNumber of rows with missing values in test date: {sum(test_data.isna().sum())}')"
   ]
  },
  {
   "cell_type": "code",
   "execution_count": 18,
   "id": "ba06cf1d",
   "metadata": {
    "execution": {
     "iopub.execute_input": "2022-04-05T08:19:57.140345Z",
     "iopub.status.busy": "2022-04-05T08:19:57.138308Z",
     "iopub.status.idle": "2022-04-05T08:19:57.144405Z",
     "shell.execute_reply": "2022-04-05T08:19:57.143421Z",
     "shell.execute_reply.started": "2022-04-05T08:00:17.193714Z"
    },
    "papermill": {
     "duration": 0.10091,
     "end_time": "2022-04-05T08:19:57.144611",
     "exception": false,
     "start_time": "2022-04-05T08:19:57.043701",
     "status": "completed"
    },
    "tags": []
   },
   "outputs": [
    {
     "name": "stdout",
     "output_type": "stream",
     "text": [
      "FoodCourt       106\n",
      "Spa             101\n",
      "Cabin           100\n",
      "ShoppingMall     98\n",
      "Name             94\n",
      "CryoSleep        93\n",
      "VIP              93\n",
      "Destination      92\n",
      "Age              91\n",
      "HomePlanet       87\n",
      "RoomService      82\n",
      "VRDeck           80\n",
      "PassengerId       0\n",
      "dtype: int64\n"
     ]
    }
   ],
   "source": [
    "print((test_data.isna().sum().sort_values(ascending = False)))"
   ]
  },
  {
   "cell_type": "markdown",
   "id": "4343ecdb",
   "metadata": {
    "papermill": {
     "duration": 0.082444,
     "end_time": "2022-04-05T08:19:57.309509",
     "exception": false,
     "start_time": "2022-04-05T08:19:57.227065",
     "status": "completed"
    },
    "tags": []
   },
   "source": [
    "- 갯수, 평균, 표준편차, 최솟값, 최댓값, 4분위수 등의 기초 통계량을 확인한다."
   ]
  },
  {
   "cell_type": "code",
   "execution_count": 19,
   "id": "e48a6710",
   "metadata": {
    "execution": {
     "iopub.execute_input": "2022-04-05T08:19:57.482655Z",
     "iopub.status.busy": "2022-04-05T08:19:57.481970Z",
     "iopub.status.idle": "2022-04-05T08:19:57.506027Z",
     "shell.execute_reply": "2022-04-05T08:19:57.505438Z",
     "shell.execute_reply.started": "2022-04-05T08:00:19.871531Z"
    },
    "papermill": {
     "duration": 0.114328,
     "end_time": "2022-04-05T08:19:57.506199",
     "exception": false,
     "start_time": "2022-04-05T08:19:57.391871",
     "status": "completed"
    },
    "tags": []
   },
   "outputs": [
    {
     "data": {
      "text/html": [
       "<div>\n",
       "<style scoped>\n",
       "    .dataframe tbody tr th:only-of-type {\n",
       "        vertical-align: middle;\n",
       "    }\n",
       "\n",
       "    .dataframe tbody tr th {\n",
       "        vertical-align: top;\n",
       "    }\n",
       "\n",
       "    .dataframe thead th {\n",
       "        text-align: right;\n",
       "    }\n",
       "</style>\n",
       "<table border=\"1\" class=\"dataframe\">\n",
       "  <thead>\n",
       "    <tr style=\"text-align: right;\">\n",
       "      <th></th>\n",
       "      <th>Age</th>\n",
       "      <th>RoomService</th>\n",
       "      <th>FoodCourt</th>\n",
       "      <th>ShoppingMall</th>\n",
       "      <th>Spa</th>\n",
       "      <th>VRDeck</th>\n",
       "    </tr>\n",
       "  </thead>\n",
       "  <tbody>\n",
       "    <tr>\n",
       "      <th>count</th>\n",
       "      <td>4186.000000</td>\n",
       "      <td>4195.000000</td>\n",
       "      <td>4171.000000</td>\n",
       "      <td>4179.000000</td>\n",
       "      <td>4176.000000</td>\n",
       "      <td>4197.000000</td>\n",
       "    </tr>\n",
       "    <tr>\n",
       "      <th>mean</th>\n",
       "      <td>28.658146</td>\n",
       "      <td>219.266269</td>\n",
       "      <td>439.484296</td>\n",
       "      <td>177.295525</td>\n",
       "      <td>303.052443</td>\n",
       "      <td>310.710031</td>\n",
       "    </tr>\n",
       "    <tr>\n",
       "      <th>std</th>\n",
       "      <td>14.179072</td>\n",
       "      <td>607.011289</td>\n",
       "      <td>1527.663045</td>\n",
       "      <td>560.821123</td>\n",
       "      <td>1117.186015</td>\n",
       "      <td>1246.994742</td>\n",
       "    </tr>\n",
       "    <tr>\n",
       "      <th>min</th>\n",
       "      <td>0.000000</td>\n",
       "      <td>0.000000</td>\n",
       "      <td>0.000000</td>\n",
       "      <td>0.000000</td>\n",
       "      <td>0.000000</td>\n",
       "      <td>0.000000</td>\n",
       "    </tr>\n",
       "    <tr>\n",
       "      <th>25%</th>\n",
       "      <td>19.000000</td>\n",
       "      <td>0.000000</td>\n",
       "      <td>0.000000</td>\n",
       "      <td>0.000000</td>\n",
       "      <td>0.000000</td>\n",
       "      <td>0.000000</td>\n",
       "    </tr>\n",
       "    <tr>\n",
       "      <th>50%</th>\n",
       "      <td>26.000000</td>\n",
       "      <td>0.000000</td>\n",
       "      <td>0.000000</td>\n",
       "      <td>0.000000</td>\n",
       "      <td>0.000000</td>\n",
       "      <td>0.000000</td>\n",
       "    </tr>\n",
       "    <tr>\n",
       "      <th>75%</th>\n",
       "      <td>37.000000</td>\n",
       "      <td>53.000000</td>\n",
       "      <td>78.000000</td>\n",
       "      <td>33.000000</td>\n",
       "      <td>50.000000</td>\n",
       "      <td>36.000000</td>\n",
       "    </tr>\n",
       "    <tr>\n",
       "      <th>max</th>\n",
       "      <td>79.000000</td>\n",
       "      <td>11567.000000</td>\n",
       "      <td>25273.000000</td>\n",
       "      <td>8292.000000</td>\n",
       "      <td>19844.000000</td>\n",
       "      <td>22272.000000</td>\n",
       "    </tr>\n",
       "  </tbody>\n",
       "</table>\n",
       "</div>"
      ],
      "text/plain": [
       "               Age   RoomService     FoodCourt  ShoppingMall           Spa  \\\n",
       "count  4186.000000   4195.000000   4171.000000   4179.000000   4176.000000   \n",
       "mean     28.658146    219.266269    439.484296    177.295525    303.052443   \n",
       "std      14.179072    607.011289   1527.663045    560.821123   1117.186015   \n",
       "min       0.000000      0.000000      0.000000      0.000000      0.000000   \n",
       "25%      19.000000      0.000000      0.000000      0.000000      0.000000   \n",
       "50%      26.000000      0.000000      0.000000      0.000000      0.000000   \n",
       "75%      37.000000     53.000000     78.000000     33.000000     50.000000   \n",
       "max      79.000000  11567.000000  25273.000000   8292.000000  19844.000000   \n",
       "\n",
       "             VRDeck  \n",
       "count   4197.000000  \n",
       "mean     310.710031  \n",
       "std     1246.994742  \n",
       "min        0.000000  \n",
       "25%        0.000000  \n",
       "50%        0.000000  \n",
       "75%       36.000000  \n",
       "max    22272.000000  "
      ]
     },
     "execution_count": 19,
     "metadata": {},
     "output_type": "execute_result"
    }
   ],
   "source": [
    "test_data.describe()"
   ]
  },
  {
   "cell_type": "markdown",
   "id": "40e4c001",
   "metadata": {
    "papermill": {
     "duration": 0.082759,
     "end_time": "2022-04-05T08:19:57.673794",
     "exception": false,
     "start_time": "2022-04-05T08:19:57.591035",
     "status": "completed"
    },
    "tags": []
   },
   "source": [
    "### Sample_Submission File\n",
    "- 식별할 수 있는 PassengerId 열과 종속변수인 Transported 열로 구성되어있다."
   ]
  },
  {
   "cell_type": "code",
   "execution_count": 20,
   "id": "2e855ed0",
   "metadata": {
    "execution": {
     "iopub.execute_input": "2022-04-05T08:19:57.844244Z",
     "iopub.status.busy": "2022-04-05T08:19:57.843241Z",
     "iopub.status.idle": "2022-04-05T08:19:57.851954Z",
     "shell.execute_reply": "2022-04-05T08:19:57.852527Z",
     "shell.execute_reply.started": "2022-04-05T08:00:21.991812Z"
    },
    "papermill": {
     "duration": 0.095366,
     "end_time": "2022-04-05T08:19:57.852697",
     "exception": false,
     "start_time": "2022-04-05T08:19:57.757331",
     "status": "completed"
    },
    "tags": []
   },
   "outputs": [
    {
     "data": {
      "text/html": [
       "<div>\n",
       "<style scoped>\n",
       "    .dataframe tbody tr th:only-of-type {\n",
       "        vertical-align: middle;\n",
       "    }\n",
       "\n",
       "    .dataframe tbody tr th {\n",
       "        vertical-align: top;\n",
       "    }\n",
       "\n",
       "    .dataframe thead th {\n",
       "        text-align: right;\n",
       "    }\n",
       "</style>\n",
       "<table border=\"1\" class=\"dataframe\">\n",
       "  <thead>\n",
       "    <tr style=\"text-align: right;\">\n",
       "      <th></th>\n",
       "      <th>PassengerId</th>\n",
       "      <th>Transported</th>\n",
       "    </tr>\n",
       "  </thead>\n",
       "  <tbody>\n",
       "    <tr>\n",
       "      <th>0</th>\n",
       "      <td>0013_01</td>\n",
       "      <td>False</td>\n",
       "    </tr>\n",
       "    <tr>\n",
       "      <th>1</th>\n",
       "      <td>0018_01</td>\n",
       "      <td>False</td>\n",
       "    </tr>\n",
       "    <tr>\n",
       "      <th>2</th>\n",
       "      <td>0019_01</td>\n",
       "      <td>False</td>\n",
       "    </tr>\n",
       "    <tr>\n",
       "      <th>3</th>\n",
       "      <td>0021_01</td>\n",
       "      <td>False</td>\n",
       "    </tr>\n",
       "    <tr>\n",
       "      <th>4</th>\n",
       "      <td>0023_01</td>\n",
       "      <td>False</td>\n",
       "    </tr>\n",
       "  </tbody>\n",
       "</table>\n",
       "</div>"
      ],
      "text/plain": [
       "  PassengerId  Transported\n",
       "0     0013_01        False\n",
       "1     0018_01        False\n",
       "2     0019_01        False\n",
       "3     0021_01        False\n",
       "4     0023_01        False"
      ]
     },
     "execution_count": 20,
     "metadata": {},
     "output_type": "execute_result"
    }
   ],
   "source": [
    "# first 5 rows of submission file\n",
    "sample_submission.head()"
   ]
  },
  {
   "cell_type": "code",
   "execution_count": 21,
   "id": "dbd9c15e",
   "metadata": {
    "execution": {
     "iopub.execute_input": "2022-04-05T08:19:58.024599Z",
     "iopub.status.busy": "2022-04-05T08:19:58.023566Z",
     "iopub.status.idle": "2022-04-05T08:19:58.036586Z",
     "shell.execute_reply": "2022-04-05T08:19:58.035653Z",
     "shell.execute_reply.started": "2022-04-05T08:00:24.172367Z"
    },
    "papermill": {
     "duration": 0.101111,
     "end_time": "2022-04-05T08:19:58.036779",
     "exception": false,
     "start_time": "2022-04-05T08:19:57.935668",
     "status": "completed"
    },
    "tags": []
   },
   "outputs": [
    {
     "name": "stdout",
     "output_type": "stream",
     "text": [
      "<class 'pandas.core.frame.DataFrame'>\n",
      "RangeIndex: 4277 entries, 0 to 4276\n",
      "Data columns (total 2 columns):\n",
      " #   Column       Non-Null Count  Dtype \n",
      "---  ------       --------------  ----- \n",
      " 0   PassengerId  4277 non-null   object\n",
      " 1   Transported  4277 non-null   bool  \n",
      "dtypes: bool(1), object(1)\n",
      "memory usage: 37.7+ KB\n"
     ]
    }
   ],
   "source": [
    "sample_submission.info()"
   ]
  },
  {
   "cell_type": "markdown",
   "id": "0e50c8f1",
   "metadata": {
    "papermill": {
     "duration": 0.083608,
     "end_time": "2022-04-05T08:19:58.205889",
     "exception": false,
     "start_time": "2022-04-05T08:19:58.122281",
     "status": "completed"
    },
    "tags": []
   },
   "source": [
    "# Step 2. 탐색적 자료 분석(EDA)"
   ]
  },
  {
   "cell_type": "markdown",
   "id": "780020e2",
   "metadata": {
    "papermill": {
     "duration": 0.08287,
     "end_time": "2022-04-05T08:19:58.371543",
     "exception": false,
     "start_time": "2022-04-05T08:19:58.288673",
     "status": "completed"
    },
    "tags": []
   },
   "source": [
    "## 데이터 시각화를 위한 주요 함수\n",
    "- 우선 종속변수의 갯수에 대해 확인한다.\n",
    "- boolean값이 비슷하게 분포 되어 있다."
   ]
  },
  {
   "cell_type": "code",
   "execution_count": 22,
   "id": "a7481d7b",
   "metadata": {
    "execution": {
     "iopub.execute_input": "2022-04-05T08:19:58.548496Z",
     "iopub.status.busy": "2022-04-05T08:19:58.547716Z",
     "iopub.status.idle": "2022-04-05T08:19:58.550657Z",
     "shell.execute_reply": "2022-04-05T08:19:58.551140Z",
     "shell.execute_reply.started": "2022-04-05T08:00:54.376350Z"
    },
    "papermill": {
     "duration": 0.094422,
     "end_time": "2022-04-05T08:19:58.551316",
     "exception": false,
     "start_time": "2022-04-05T08:19:58.456894",
     "status": "completed"
    },
    "tags": []
   },
   "outputs": [
    {
     "data": {
      "text/plain": [
       "True     4378\n",
       "False    4315\n",
       "Name: Transported, dtype: int64"
      ]
     },
     "execution_count": 22,
     "metadata": {},
     "output_type": "execute_result"
    }
   ],
   "source": [
    "train_data['Transported'].value_counts()"
   ]
  },
  {
   "cell_type": "code",
   "execution_count": 23,
   "id": "39ca524a",
   "metadata": {
    "execution": {
     "iopub.execute_input": "2022-04-05T08:19:58.727465Z",
     "iopub.status.busy": "2022-04-05T08:19:58.722113Z",
     "iopub.status.idle": "2022-04-05T08:19:58.731067Z",
     "shell.execute_reply": "2022-04-05T08:19:58.730577Z",
     "shell.execute_reply.started": "2022-04-05T08:00:56.740144Z"
    },
    "papermill": {
     "duration": 0.095768,
     "end_time": "2022-04-05T08:19:58.731202",
     "exception": false,
     "start_time": "2022-04-05T08:19:58.635434",
     "status": "completed"
    },
    "tags": []
   },
   "outputs": [
    {
     "data": {
      "text/plain": [
       "False    5439\n",
       "True     3037\n",
       "Name: CryoSleep, dtype: int64"
      ]
     },
     "execution_count": 23,
     "metadata": {},
     "output_type": "execute_result"
    }
   ],
   "source": [
    "train_data['CryoSleep'].value_counts()"
   ]
  },
  {
   "cell_type": "markdown",
   "id": "01b91826",
   "metadata": {
    "papermill": {
     "duration": 0.084271,
     "end_time": "2022-04-05T08:19:58.898871",
     "exception": false,
     "start_time": "2022-04-05T08:19:58.814600",
     "status": "completed"
    },
    "tags": []
   },
   "source": [
    "- 시각화를 위한 함수를 정의한다."
   ]
  },
  {
   "cell_type": "code",
   "execution_count": 24,
   "id": "6b67ad27",
   "metadata": {
    "execution": {
     "iopub.execute_input": "2022-04-05T08:19:59.081778Z",
     "iopub.status.busy": "2022-04-05T08:19:59.080833Z",
     "iopub.status.idle": "2022-04-05T08:19:59.083657Z",
     "shell.execute_reply": "2022-04-05T08:19:59.083117Z",
     "shell.execute_reply.started": "2022-04-05T08:00:59.892232Z"
    },
    "papermill": {
     "duration": 0.099713,
     "end_time": "2022-04-05T08:19:59.083847",
     "exception": false,
     "start_time": "2022-04-05T08:19:58.984134",
     "status": "completed"
    },
    "tags": []
   },
   "outputs": [],
   "source": [
    "def cnt_bar(data, col_name):\n",
    "    df = data[col_name].value_counts()\n",
    "    fig, ax = plt.subplots(figsize=(10, 8))\n",
    "    labels = [str(item) for item in list(data[col_name].value_counts().index)]\n",
    "    bars = sns.countplot(x=col_name, data=data, color='lightgray', alpha=0.9, zorder=2, ax=ax)\n",
    "    \n",
    "    for bar in bars.patches:\n",
    "        fontweight = \"normal\"\n",
    "        color = \"k\"\n",
    "        height = np.round(bar.get_height(), 2)\n",
    "        if bar.get_height() == data[col_name].value_counts().values[0]:\n",
    "            fontweight=\"bold\"\n",
    "            color=\"hotpink\"\n",
    "            bar.set_facecolor(color)\n",
    "        ax.text(bar.get_x() + bar.get_width()/2., height+100, height+1, ha = 'center', size=12, fontweight=fontweight, color=color)\n",
    "    ax.set_title(f'Bar Graph of {col_name}', size = 20)\n",
    "    ax.set_xlabel(col_name, size = 20)\n",
    "    ax.set_ylabel(\"No. Passengers\", size = 20)\n",
    "\n",
    "    ax.spines['top'].set_visible(False)\n",
    "    ax.spines['left'].set_position((\"outward\", 20))\n",
    "    ax.spines['left'].set_visible(False)\n",
    "    ax.spines['right'].set_visible(False)\n",
    "\n",
    "    ax.grid(axis=\"y\", which=\"major\", color=\"lightgray\")\n",
    "    ax.grid(axis=\"y\", which=\"minor\", ls=\":\")\n",
    "    \n",
    "    plt.show()"
   ]
  },
  {
   "cell_type": "markdown",
   "id": "317df9da",
   "metadata": {
    "papermill": {
     "duration": 0.083264,
     "end_time": "2022-04-05T08:19:59.253495",
     "exception": false,
     "start_time": "2022-04-05T08:19:59.170231",
     "status": "completed"
    },
    "tags": []
   },
   "source": [
    "- 함수를 적용해본다.\n",
    "    - Cabin, PassengerId 열은 적용할 수 없다."
   ]
  },
  {
   "cell_type": "code",
   "execution_count": 25,
   "id": "83348572",
   "metadata": {
    "execution": {
     "iopub.execute_input": "2022-04-05T08:19:59.432703Z",
     "iopub.status.busy": "2022-04-05T08:19:59.424139Z",
     "iopub.status.idle": "2022-04-05T08:19:59.680115Z",
     "shell.execute_reply": "2022-04-05T08:19:59.680625Z",
     "shell.execute_reply.started": "2022-04-05T08:01:03.475891Z"
    },
    "papermill": {
     "duration": 0.344269,
     "end_time": "2022-04-05T08:19:59.680813",
     "exception": false,
     "start_time": "2022-04-05T08:19:59.336544",
     "status": "completed"
    },
    "tags": []
   },
   "outputs": [
    {
     "data": {
      "image/png": "[encoded data removed]",
      "text/plain": [
       "<Figure size 720x576 with 1 Axes>"
      ]
     },
     "metadata": {
      "needs_background": "light"
     },
     "output_type": "display_data"
    }
   ],
   "source": [
    "cnt_bar(train_data, \"Destination\")"
   ]
  },
  {
   "cell_type": "code",
   "execution_count": 26,
   "id": "e962313e",
   "metadata": {
    "execution": {
     "iopub.execute_input": "2022-04-05T08:19:59.856731Z",
     "iopub.status.busy": "2022-04-05T08:19:59.856128Z",
     "iopub.status.idle": "2022-04-05T08:20:00.063773Z",
     "shell.execute_reply": "2022-04-05T08:20:00.064311Z",
     "shell.execute_reply.started": "2022-04-05T08:01:06.408113Z"
    },
    "papermill": {
     "duration": 0.296703,
     "end_time": "2022-04-05T08:20:00.064518",
     "exception": false,
     "start_time": "2022-04-05T08:19:59.767815",
     "status": "completed"
    },
    "tags": []
   },
   "outputs": [
    {
     "data": {
      "image/png": "[encoded data removed]",
      "text/plain": [
       "<Figure size 720x576 with 1 Axes>"
      ]
     },
     "metadata": {
      "needs_background": "light"
     },
     "output_type": "display_data"
    }
   ],
   "source": [
    "cnt_bar(train_data, \"HomePlanet\")"
   ]
  },
  {
   "cell_type": "code",
   "execution_count": 27,
   "id": "3dbb1182",
   "metadata": {
    "execution": {
     "iopub.execute_input": "2022-04-05T08:20:00.277534Z",
     "iopub.status.busy": "2022-04-05T08:20:00.276585Z",
     "iopub.status.idle": "2022-04-05T08:20:00.493501Z",
     "shell.execute_reply": "2022-04-05T08:20:00.494003Z",
     "shell.execute_reply.started": "2022-04-05T08:01:08.805707Z"
    },
    "papermill": {
     "duration": 0.321482,
     "end_time": "2022-04-05T08:20:00.494196",
     "exception": false,
     "start_time": "2022-04-05T08:20:00.172714",
     "status": "completed"
    },
    "tags": []
   },
   "outputs": [
    {
     "data": {
      "image/png": "[encoded data removed]",
      "text/plain": [
       "<Figure size 720x576 with 1 Axes>"
      ]
     },
     "metadata": {
      "needs_background": "light"
     },
     "output_type": "display_data"
    }
   ],
   "source": [
    "cnt_bar(train_data, \"CryoSleep\")"
   ]
  },
  {
   "cell_type": "code",
   "execution_count": 28,
   "id": "59d31bf2",
   "metadata": {
    "execution": {
     "iopub.execute_input": "2022-04-05T08:20:00.676103Z",
     "iopub.status.busy": "2022-04-05T08:20:00.675094Z",
     "iopub.status.idle": "2022-04-05T08:20:00.896784Z",
     "shell.execute_reply": "2022-04-05T08:20:00.897246Z",
     "shell.execute_reply.started": "2022-04-05T08:01:11.262058Z"
    },
    "papermill": {
     "duration": 0.316119,
     "end_time": "2022-04-05T08:20:00.897447",
     "exception": false,
     "start_time": "2022-04-05T08:20:00.581328",
     "status": "completed"
    },
    "tags": []
   },
   "outputs": [
    {
     "data": {
      "image/png": "[encoded data removed]",
      "text/plain": [
       "<Figure size 720x576 with 1 Axes>"
      ]
     },
     "metadata": {
      "needs_background": "light"
     },
     "output_type": "display_data"
    }
   ],
   "source": [
    "cnt_bar(train_data, \"VIP\")"
   ]
  },
  {
   "cell_type": "code",
   "execution_count": 29,
   "id": "443681b3",
   "metadata": {
    "execution": {
     "iopub.execute_input": "2022-04-05T08:20:01.090522Z",
     "iopub.status.busy": "2022-04-05T08:20:01.089788Z",
     "iopub.status.idle": "2022-04-05T08:20:01.259740Z",
     "shell.execute_reply": "2022-04-05T08:20:01.259187Z",
     "shell.execute_reply.started": "2022-04-05T08:01:14.057006Z"
    },
    "papermill": {
     "duration": 0.275615,
     "end_time": "2022-04-05T08:20:01.259883",
     "exception": false,
     "start_time": "2022-04-05T08:20:00.984268",
     "status": "completed"
    },
    "tags": []
   },
   "outputs": [
    {
     "data": {
      "image/png": "[encoded data removed]",
      "text/plain": [
       "<Figure size 720x576 with 1 Axes>"
      ]
     },
     "metadata": {
      "needs_background": "light"
     },
     "output_type": "display_data"
    }
   ],
   "source": [
    "cnt_bar(train_data, \"Transported\")"
   ]
  },
  {
   "cell_type": "markdown",
   "id": "175e8fb9",
   "metadata": {
    "papermill": {
     "duration": 0.090036,
     "end_time": "2022-04-05T08:20:01.440104",
     "exception": false,
     "start_time": "2022-04-05T08:20:01.350068",
     "status": "completed"
    },
    "tags": []
   },
   "source": [
    "- RoomService, FoodCourt, Spa는 연속형 데이터가 아니라 비연속형 데이터임을 확인한다."
   ]
  },
  {
   "cell_type": "code",
   "execution_count": 30,
   "id": "feeee668",
   "metadata": {
    "execution": {
     "iopub.execute_input": "2022-04-05T08:20:01.622501Z",
     "iopub.status.busy": "2022-04-05T08:20:01.621771Z",
     "iopub.status.idle": "2022-04-05T08:20:01.648626Z",
     "shell.execute_reply": "2022-04-05T08:20:01.649125Z",
     "shell.execute_reply.started": "2022-04-05T08:01:18.333110Z"
    },
    "papermill": {
     "duration": 0.119784,
     "end_time": "2022-04-05T08:20:01.649334",
     "exception": false,
     "start_time": "2022-04-05T08:20:01.529550",
     "status": "completed"
    },
    "tags": []
   },
   "outputs": [
    {
     "data": {
      "text/html": [
       "<div>\n",
       "<style scoped>\n",
       "    .dataframe tbody tr th:only-of-type {\n",
       "        vertical-align: middle;\n",
       "    }\n",
       "\n",
       "    .dataframe tbody tr th {\n",
       "        vertical-align: top;\n",
       "    }\n",
       "\n",
       "    .dataframe thead th {\n",
       "        text-align: right;\n",
       "    }\n",
       "</style>\n",
       "<table border=\"1\" class=\"dataframe\">\n",
       "  <thead>\n",
       "    <tr style=\"text-align: right;\">\n",
       "      <th></th>\n",
       "      <th>Age</th>\n",
       "      <th>RoomService</th>\n",
       "      <th>FoodCourt</th>\n",
       "      <th>ShoppingMall</th>\n",
       "      <th>Spa</th>\n",
       "      <th>VRDeck</th>\n",
       "    </tr>\n",
       "  </thead>\n",
       "  <tbody>\n",
       "    <tr>\n",
       "      <th>count</th>\n",
       "      <td>8514.000000</td>\n",
       "      <td>8512.000000</td>\n",
       "      <td>8510.000000</td>\n",
       "      <td>8485.000000</td>\n",
       "      <td>8510.000000</td>\n",
       "      <td>8505.000000</td>\n",
       "    </tr>\n",
       "    <tr>\n",
       "      <th>mean</th>\n",
       "      <td>28.827930</td>\n",
       "      <td>224.687617</td>\n",
       "      <td>458.077203</td>\n",
       "      <td>173.729169</td>\n",
       "      <td>311.138778</td>\n",
       "      <td>304.854791</td>\n",
       "    </tr>\n",
       "    <tr>\n",
       "      <th>std</th>\n",
       "      <td>14.489021</td>\n",
       "      <td>666.717663</td>\n",
       "      <td>1611.489240</td>\n",
       "      <td>604.696458</td>\n",
       "      <td>1136.705535</td>\n",
       "      <td>1145.717189</td>\n",
       "    </tr>\n",
       "    <tr>\n",
       "      <th>min</th>\n",
       "      <td>0.000000</td>\n",
       "      <td>0.000000</td>\n",
       "      <td>0.000000</td>\n",
       "      <td>0.000000</td>\n",
       "      <td>0.000000</td>\n",
       "      <td>0.000000</td>\n",
       "    </tr>\n",
       "    <tr>\n",
       "      <th>25%</th>\n",
       "      <td>19.000000</td>\n",
       "      <td>0.000000</td>\n",
       "      <td>0.000000</td>\n",
       "      <td>0.000000</td>\n",
       "      <td>0.000000</td>\n",
       "      <td>0.000000</td>\n",
       "    </tr>\n",
       "    <tr>\n",
       "      <th>50%</th>\n",
       "      <td>27.000000</td>\n",
       "      <td>0.000000</td>\n",
       "      <td>0.000000</td>\n",
       "      <td>0.000000</td>\n",
       "      <td>0.000000</td>\n",
       "      <td>0.000000</td>\n",
       "    </tr>\n",
       "    <tr>\n",
       "      <th>75%</th>\n",
       "      <td>38.000000</td>\n",
       "      <td>47.000000</td>\n",
       "      <td>76.000000</td>\n",
       "      <td>27.000000</td>\n",
       "      <td>59.000000</td>\n",
       "      <td>46.000000</td>\n",
       "    </tr>\n",
       "    <tr>\n",
       "      <th>max</th>\n",
       "      <td>79.000000</td>\n",
       "      <td>14327.000000</td>\n",
       "      <td>29813.000000</td>\n",
       "      <td>23492.000000</td>\n",
       "      <td>22408.000000</td>\n",
       "      <td>24133.000000</td>\n",
       "    </tr>\n",
       "  </tbody>\n",
       "</table>\n",
       "</div>"
      ],
      "text/plain": [
       "               Age   RoomService     FoodCourt  ShoppingMall           Spa  \\\n",
       "count  8514.000000   8512.000000   8510.000000   8485.000000   8510.000000   \n",
       "mean     28.827930    224.687617    458.077203    173.729169    311.138778   \n",
       "std      14.489021    666.717663   1611.489240    604.696458   1136.705535   \n",
       "min       0.000000      0.000000      0.000000      0.000000      0.000000   \n",
       "25%      19.000000      0.000000      0.000000      0.000000      0.000000   \n",
       "50%      27.000000      0.000000      0.000000      0.000000      0.000000   \n",
       "75%      38.000000     47.000000     76.000000     27.000000     59.000000   \n",
       "max      79.000000  14327.000000  29813.000000  23492.000000  22408.000000   \n",
       "\n",
       "             VRDeck  \n",
       "count   8505.000000  \n",
       "mean     304.854791  \n",
       "std     1145.717189  \n",
       "min        0.000000  \n",
       "25%        0.000000  \n",
       "50%        0.000000  \n",
       "75%       46.000000  \n",
       "max    24133.000000  "
      ]
     },
     "execution_count": 30,
     "metadata": {},
     "output_type": "execute_result"
    }
   ],
   "source": [
    "train_data.describe()"
   ]
  },
  {
   "cell_type": "code",
   "execution_count": 31,
   "id": "f85cb22a",
   "metadata": {
    "execution": {
     "iopub.execute_input": "2022-04-05T08:20:01.832420Z",
     "iopub.status.busy": "2022-04-05T08:20:01.831710Z",
     "iopub.status.idle": "2022-04-05T08:20:01.839021Z",
     "shell.execute_reply": "2022-04-05T08:20:01.839616Z",
     "shell.execute_reply.started": "2022-04-05T08:01:20.724780Z"
    },
    "papermill": {
     "duration": 0.101575,
     "end_time": "2022-04-05T08:20:01.839801",
     "exception": false,
     "start_time": "2022-04-05T08:20:01.738226",
     "status": "completed"
    },
    "tags": []
   },
   "outputs": [
    {
     "data": {
      "text/plain": [
       "Index(['Age', 'RoomService', 'FoodCourt', 'ShoppingMall', 'Spa', 'VRDeck'], dtype='object')"
      ]
     },
     "execution_count": 31,
     "metadata": {},
     "output_type": "execute_result"
    }
   ],
   "source": [
    "numeric_features = train_data.select_dtypes(include=[np.number])\n",
    "numeric_features.columns"
   ]
  },
  {
   "cell_type": "code",
   "execution_count": 32,
   "id": "e4778ace",
   "metadata": {
    "execution": {
     "iopub.execute_input": "2022-04-05T08:20:02.030768Z",
     "iopub.status.busy": "2022-04-05T08:20:02.030122Z",
     "iopub.status.idle": "2022-04-05T08:20:02.989481Z",
     "shell.execute_reply": "2022-04-05T08:20:02.989956Z",
     "shell.execute_reply.started": "2022-04-05T08:01:27.266570Z"
    },
    "papermill": {
     "duration": 1.057569,
     "end_time": "2022-04-05T08:20:02.990153",
     "exception": false,
     "start_time": "2022-04-05T08:20:01.932584",
     "status": "completed"
    },
    "tags": []
   },
   "outputs": [
    {
     "data": {
      "image/png": "[encoded data removed]",
      "text/plain": [
       "<Figure size 1152x720 with 6 Axes>"
      ]
     },
     "metadata": {
      "needs_background": "light"
     },
     "output_type": "display_data"
    }
   ],
   "source": [
    "fig, ax = plt.subplots(2, 3, figsize=(16, 10)) # 그래프의 행과 열 지정 및, 이미지 사이즈 지정\n",
    "data = train_data.copy()\n",
    "# data[numeric_features.columns].columns[0:]\n",
    "for i, col in enumerate(data[numeric_features.columns].columns[0:]): # 좌표 평면 지정\n",
    "    # print(i, col)\n",
    "    if i <= 2:\n",
    "        sns.boxplot(x=data[\"Transported\"], y=data[col], ax=ax[0,i]) # 1행 좌표 평면\n",
    "    else: \n",
    "        sns.boxplot(x=data[\"Transported\"], y=data[col], ax=ax[1,i-4]) # 5행 좌표 평면\n",
    "fig.suptitle('My Box Plots')\n",
    "fig.tight_layout()\n",
    "fig.subplots_adjust(top=0.95)"
   ]
  },
  {
   "cell_type": "code",
   "execution_count": 33,
   "id": "181f904c",
   "metadata": {
    "execution": {
     "iopub.execute_input": "2022-04-05T08:20:03.186558Z",
     "iopub.status.busy": "2022-04-05T08:20:03.185583Z",
     "iopub.status.idle": "2022-04-05T08:20:03.192766Z",
     "shell.execute_reply": "2022-04-05T08:20:03.193473Z",
     "shell.execute_reply.started": "2022-04-05T08:01:47.001682Z"
    },
    "papermill": {
     "duration": 0.107684,
     "end_time": "2022-04-05T08:20:03.193679",
     "exception": false,
     "start_time": "2022-04-05T08:20:03.085995",
     "status": "completed"
    },
    "tags": []
   },
   "outputs": [
    {
     "data": {
      "text/plain": [
       "0.0       5577\n",
       "1.0        117\n",
       "2.0         79\n",
       "3.0         61\n",
       "4.0         47\n",
       "          ... \n",
       "1612.0       1\n",
       "2598.0       1\n",
       "632.0        1\n",
       "378.0        1\n",
       "745.0        1\n",
       "Name: RoomService, Length: 1273, dtype: int64"
      ]
     },
     "execution_count": 33,
     "metadata": {},
     "output_type": "execute_result"
    }
   ],
   "source": [
    "train_data['RoomService'].value_counts()"
   ]
  },
  {
   "cell_type": "code",
   "execution_count": 34,
   "id": "4ec40073",
   "metadata": {
    "execution": {
     "iopub.execute_input": "2022-04-05T08:20:03.382761Z",
     "iopub.status.busy": "2022-04-05T08:20:03.381792Z",
     "iopub.status.idle": "2022-04-05T08:20:03.391172Z",
     "shell.execute_reply": "2022-04-05T08:20:03.391762Z",
     "shell.execute_reply.started": "2022-04-05T08:01:49.219889Z"
    },
    "papermill": {
     "duration": 0.106621,
     "end_time": "2022-04-05T08:20:03.391974",
     "exception": false,
     "start_time": "2022-04-05T08:20:03.285353",
     "status": "completed"
    },
    "tags": []
   },
   "outputs": [
    {
     "data": {
      "text/plain": [
       "0.0       5456\n",
       "1.0        116\n",
       "2.0         75\n",
       "3.0         53\n",
       "4.0         53\n",
       "          ... \n",
       "3846.0       1\n",
       "5193.0       1\n",
       "312.0        1\n",
       "827.0        1\n",
       "4688.0       1\n",
       "Name: FoodCourt, Length: 1507, dtype: int64"
      ]
     },
     "execution_count": 34,
     "metadata": {},
     "output_type": "execute_result"
    }
   ],
   "source": [
    "train_data['FoodCourt'].value_counts()"
   ]
  },
  {
   "cell_type": "code",
   "execution_count": 35,
   "id": "9ff1bf6b",
   "metadata": {
    "execution": {
     "iopub.execute_input": "2022-04-05T08:20:03.584792Z",
     "iopub.status.busy": "2022-04-05T08:20:03.584166Z",
     "iopub.status.idle": "2022-04-05T08:20:03.589457Z",
     "shell.execute_reply": "2022-04-05T08:20:03.589969Z",
     "shell.execute_reply.started": "2022-04-05T08:01:51.260202Z"
    },
    "papermill": {
     "duration": 0.103451,
     "end_time": "2022-04-05T08:20:03.590149",
     "exception": false,
     "start_time": "2022-04-05T08:20:03.486698",
     "status": "completed"
    },
    "tags": []
   },
   "outputs": [
    {
     "data": {
      "text/plain": [
       "0.0       5324\n",
       "1.0        146\n",
       "2.0        105\n",
       "5.0         53\n",
       "3.0         53\n",
       "          ... \n",
       "273.0        1\n",
       "2581.0       1\n",
       "2948.0       1\n",
       "3778.0       1\n",
       "1643.0       1\n",
       "Name: Spa, Length: 1327, dtype: int64"
      ]
     },
     "execution_count": 35,
     "metadata": {},
     "output_type": "execute_result"
    }
   ],
   "source": [
    "train_data['Spa'].value_counts()"
   ]
  },
  {
   "cell_type": "markdown",
   "id": "d74d1a9e",
   "metadata": {
    "papermill": {
     "duration": 0.091275,
     "end_time": "2022-04-05T08:20:03.775062",
     "exception": false,
     "start_time": "2022-04-05T08:20:03.683787",
     "status": "completed"
    },
    "tags": []
   },
   "source": [
    "# Step 3. 데이터 전처리\n"
   ]
  },
  {
   "cell_type": "markdown",
   "id": "3106a7e1",
   "metadata": {
    "papermill": {
     "duration": 0.093081,
     "end_time": "2022-04-05T08:20:03.962393",
     "exception": false,
     "start_time": "2022-04-05T08:20:03.869312",
     "status": "completed"
    },
    "tags": []
   },
   "source": [
    "## 불필요한 변수 제거"
   ]
  },
  {
   "cell_type": "markdown",
   "id": "d8c3e15f",
   "metadata": {
    "papermill": {
     "duration": 0.093298,
     "end_time": "2022-04-05T08:20:04.152570",
     "exception": false,
     "start_time": "2022-04-05T08:20:04.059272",
     "status": "completed"
    },
    "tags": []
   },
   "source": [
    "- PassengerId, Name, Cabin 열은 쓰지 않는다.\n",
    "- 따라서, 제거한다."
   ]
  },
  {
   "cell_type": "code",
   "execution_count": 36,
   "id": "27e7ec27",
   "metadata": {
    "execution": {
     "iopub.execute_input": "2022-04-05T08:20:04.343791Z",
     "iopub.status.busy": "2022-04-05T08:20:04.343146Z",
     "iopub.status.idle": "2022-04-05T08:20:04.355075Z",
     "shell.execute_reply": "2022-04-05T08:20:04.355620Z",
     "shell.execute_reply.started": "2022-04-05T08:02:08.834654Z"
    },
    "papermill": {
     "duration": 0.109766,
     "end_time": "2022-04-05T08:20:04.355801",
     "exception": false,
     "start_time": "2022-04-05T08:20:04.246035",
     "status": "completed"
    },
    "tags": []
   },
   "outputs": [
    {
     "data": {
      "text/plain": [
       "Gollux Reedall        2\n",
       "Elaney Webstephrey    2\n",
       "Grake Porki           2\n",
       "Sus Coolez            2\n",
       "Apix Wala             2\n",
       "                     ..\n",
       "Jamela Griffy         1\n",
       "Hardy Griffy          1\n",
       "Salley Mckinn         1\n",
       "Mall Frasp            1\n",
       "Propsh Hontichre      1\n",
       "Name: Name, Length: 8473, dtype: int64"
      ]
     },
     "execution_count": 36,
     "metadata": {},
     "output_type": "execute_result"
    }
   ],
   "source": [
    "train_data['Name'].value_counts()"
   ]
  },
  {
   "cell_type": "code",
   "execution_count": 37,
   "id": "bce3f03a",
   "metadata": {
    "execution": {
     "iopub.execute_input": "2022-04-05T08:20:04.550402Z",
     "iopub.status.busy": "2022-04-05T08:20:04.549719Z",
     "iopub.status.idle": "2022-04-05T08:20:04.561189Z",
     "shell.execute_reply": "2022-04-05T08:20:04.561692Z",
     "shell.execute_reply.started": "2022-04-05T08:02:10.904438Z"
    },
    "papermill": {
     "duration": 0.111354,
     "end_time": "2022-04-05T08:20:04.561879",
     "exception": false,
     "start_time": "2022-04-05T08:20:04.450525",
     "status": "completed"
    },
    "tags": []
   },
   "outputs": [
    {
     "data": {
      "text/plain": [
       "G/734/S     8\n",
       "G/109/P     7\n",
       "B/201/P     7\n",
       "G/1368/P    7\n",
       "G/981/S     7\n",
       "           ..\n",
       "G/556/P     1\n",
       "E/231/S     1\n",
       "G/545/S     1\n",
       "G/543/S     1\n",
       "F/947/P     1\n",
       "Name: Cabin, Length: 6560, dtype: int64"
      ]
     },
     "execution_count": 37,
     "metadata": {},
     "output_type": "execute_result"
    }
   ],
   "source": [
    "train_data['Cabin'].value_counts()"
   ]
  },
  {
   "cell_type": "code",
   "execution_count": 38,
   "id": "cf5ec1d2",
   "metadata": {
    "execution": {
     "iopub.execute_input": "2022-04-05T08:20:04.756267Z",
     "iopub.status.busy": "2022-04-05T08:20:04.755630Z",
     "iopub.status.idle": "2022-04-05T08:20:04.764312Z",
     "shell.execute_reply": "2022-04-05T08:20:04.765077Z",
     "shell.execute_reply.started": "2022-04-05T08:02:12.809795Z"
    },
    "papermill": {
     "duration": 0.106397,
     "end_time": "2022-04-05T08:20:04.765295",
     "exception": false,
     "start_time": "2022-04-05T08:20:04.658898",
     "status": "completed"
    },
    "tags": []
   },
   "outputs": [
    {
     "name": "stdout",
     "output_type": "stream",
     "text": [
      "Before: (8693, 14) (4277, 13)\n",
      "After: (8693, 11) (4277, 10)\n"
     ]
    }
   ],
   "source": [
    "remove_cols = ['PassengerId', 'Name', 'Cabin']\n",
    "passenferId = test_data['PassengerId']\n",
    "\n",
    "print(\"Before:\", train_data.shape, test_data.shape)\n",
    "train_data = train_data.drop(remove_cols, axis = 1)\n",
    "test_data = test_data.drop(remove_cols, axis= 1)\n",
    "\n",
    "print(\"After:\", train_data.shape, test_data.shape)"
   ]
  },
  {
   "cell_type": "markdown",
   "id": "fcc722c7",
   "metadata": {
    "papermill": {
     "duration": 0.094409,
     "end_time": "2022-04-05T08:20:04.953920",
     "exception": false,
     "start_time": "2022-04-05T08:20:04.859511",
     "status": "completed"
    },
    "tags": []
   },
   "source": [
    "## 결측치\n",
    "- 결측치 데이터를 확인한다.\n",
    "- 결측치 데이터를 채워 넣는다.\n",
    "- 우선, 수치형 데이터부터 해준다."
   ]
  },
  {
   "cell_type": "code",
   "execution_count": 39,
   "id": "050183f5",
   "metadata": {
    "execution": {
     "iopub.execute_input": "2022-04-05T08:20:05.149093Z",
     "iopub.status.busy": "2022-04-05T08:20:05.148436Z",
     "iopub.status.idle": "2022-04-05T08:20:05.159795Z",
     "shell.execute_reply": "2022-04-05T08:20:05.160442Z",
     "shell.execute_reply.started": "2022-04-05T08:02:17.842600Z"
    },
    "papermill": {
     "duration": 0.110864,
     "end_time": "2022-04-05T08:20:05.160632",
     "exception": false,
     "start_time": "2022-04-05T08:20:05.049768",
     "status": "completed"
    },
    "tags": []
   },
   "outputs": [
    {
     "data": {
      "text/plain": [
       "CryoSleep       217\n",
       "ShoppingMall    208\n",
       "VIP             203\n",
       "HomePlanet      201\n",
       "VRDeck          188\n",
       "FoodCourt       183\n",
       "Spa             183\n",
       "Destination     182\n",
       "RoomService     181\n",
       "Age             179\n",
       "Transported       0\n",
       "dtype: int64"
      ]
     },
     "execution_count": 39,
     "metadata": {},
     "output_type": "execute_result"
    }
   ],
   "source": [
    "train_data.isnull().sum().sort_values(ascending = False)"
   ]
  },
  {
   "cell_type": "code",
   "execution_count": 40,
   "id": "9d09dc2c",
   "metadata": {
    "execution": {
     "iopub.execute_input": "2022-04-05T08:20:05.350901Z",
     "iopub.status.busy": "2022-04-05T08:20:05.350260Z",
     "iopub.status.idle": "2022-04-05T08:20:05.359647Z",
     "shell.execute_reply": "2022-04-05T08:20:05.360241Z",
     "shell.execute_reply.started": "2022-04-05T08:02:29.235299Z"
    },
    "papermill": {
     "duration": 0.106206,
     "end_time": "2022-04-05T08:20:05.360427",
     "exception": false,
     "start_time": "2022-04-05T08:20:05.254221",
     "status": "completed"
    },
    "tags": []
   },
   "outputs": [
    {
     "data": {
      "text/plain": [
       "FoodCourt       106\n",
       "Spa             101\n",
       "ShoppingMall     98\n",
       "CryoSleep        93\n",
       "VIP              93\n",
       "Destination      92\n",
       "Age              91\n",
       "HomePlanet       87\n",
       "RoomService      82\n",
       "VRDeck           80\n",
       "dtype: int64"
      ]
     },
     "execution_count": 40,
     "metadata": {},
     "output_type": "execute_result"
    }
   ],
   "source": [
    "test_data.isnull().sum().sort_values(ascending = False)"
   ]
  },
  {
   "cell_type": "code",
   "execution_count": 41,
   "id": "45c2f4d8",
   "metadata": {
    "execution": {
     "iopub.execute_input": "2022-04-05T08:20:05.554369Z",
     "iopub.status.busy": "2022-04-05T08:20:05.553666Z",
     "iopub.status.idle": "2022-04-05T08:20:05.586138Z",
     "shell.execute_reply": "2022-04-05T08:20:05.586614Z",
     "shell.execute_reply.started": "2022-04-05T08:02:33.497314Z"
    },
    "papermill": {
     "duration": 0.131042,
     "end_time": "2022-04-05T08:20:05.586806",
     "exception": false,
     "start_time": "2022-04-05T08:20:05.455764",
     "status": "completed"
    },
    "tags": []
   },
   "outputs": [
    {
     "name": "stdout",
     "output_type": "stream",
     "text": [
      "train:\n",
      " HomePlanet      201\n",
      "CryoSleep       217\n",
      "Destination     182\n",
      "Age               0\n",
      "VIP             203\n",
      "RoomService       0\n",
      "FoodCourt         0\n",
      "ShoppingMall      0\n",
      "Spa               0\n",
      "VRDeck            0\n",
      "Transported       0\n",
      "dtype: int64\n",
      "----------------\n",
      "test:\n",
      " HomePlanet      87\n",
      "CryoSleep       93\n",
      "Destination     92\n",
      "Age              0\n",
      "VIP             93\n",
      "RoomService      0\n",
      "FoodCourt        0\n",
      "ShoppingMall     0\n",
      "Spa              0\n",
      "VRDeck           0\n",
      "dtype: int64\n"
     ]
    }
   ],
   "source": [
    "imputer_cols = [\"Age\", \"FoodCourt\", \"ShoppingMall\", \"Spa\", \"VRDeck\" ,\"RoomService\"]\n",
    "STRATEGY = 'median'\n",
    "\n",
    "imputer = SimpleImputer(strategy=STRATEGY)\n",
    "imputer.fit(train_data[imputer_cols])\n",
    "train_data[imputer_cols] = imputer.transform(train_data[imputer_cols])\n",
    "test_data[imputer_cols] = imputer.transform(test_data[imputer_cols])\n",
    "\n",
    "print(\"train:\\n\", train_data.isnull().sum())\n",
    "print(\"----------------\")\n",
    "print(\"test:\\n\", test_data.isnull().sum())"
   ]
  },
  {
   "cell_type": "markdown",
   "id": "0899db7f",
   "metadata": {
    "papermill": {
     "duration": 0.093041,
     "end_time": "2022-04-05T08:20:05.773868",
     "exception": false,
     "start_time": "2022-04-05T08:20:05.680827",
     "status": "completed"
    },
    "tags": []
   },
   "source": [
    "- 문자열 데이터를 처리한다."
   ]
  },
  {
   "cell_type": "code",
   "execution_count": 42,
   "id": "32879239",
   "metadata": {
    "execution": {
     "iopub.execute_input": "2022-04-05T08:20:05.965443Z",
     "iopub.status.busy": "2022-04-05T08:20:05.964595Z",
     "iopub.status.idle": "2022-04-05T08:20:05.997330Z",
     "shell.execute_reply": "2022-04-05T08:20:05.997840Z",
     "shell.execute_reply.started": "2022-04-05T08:02:43.437246Z"
    },
    "papermill": {
     "duration": 0.130758,
     "end_time": "2022-04-05T08:20:05.998071",
     "exception": false,
     "start_time": "2022-04-05T08:20:05.867313",
     "status": "completed"
    },
    "tags": []
   },
   "outputs": [
    {
     "name": "stdout",
     "output_type": "stream",
     "text": [
      "train:\n",
      " HomePlanet      0\n",
      "CryoSleep       0\n",
      "Destination     0\n",
      "Age             0\n",
      "VIP             0\n",
      "RoomService     0\n",
      "FoodCourt       0\n",
      "ShoppingMall    0\n",
      "Spa             0\n",
      "VRDeck          0\n",
      "Transported     0\n",
      "dtype: int64\n",
      "---\n",
      "test:\n",
      " HomePlanet      0\n",
      "CryoSleep       0\n",
      "Destination     0\n",
      "Age             0\n",
      "VIP             0\n",
      "RoomService     0\n",
      "FoodCourt       0\n",
      "ShoppingMall    0\n",
      "Spa             0\n",
      "VRDeck          0\n",
      "dtype: int64\n"
     ]
    }
   ],
   "source": [
    "imputer_cols = [\"HomePlanet\", \"CryoSleep\", \"Destination\", \"VIP\"]\n",
    "STRATEGY = 'most_frequent'\n",
    "\n",
    "imputer = SimpleImputer(strategy=STRATEGY)\n",
    "imputer.fit(train_data[imputer_cols])\n",
    "train_data[imputer_cols] = imputer.transform(train_data[imputer_cols])\n",
    "test_data[imputer_cols] = imputer.transform(test_data[imputer_cols])\n",
    "\n",
    "print(\"train:\\n\", train_data.isnull().sum())\n",
    "print(\"---\")\n",
    "print(\"test:\\n\", test_data.isnull().sum())"
   ]
  },
  {
   "cell_type": "markdown",
   "id": "8df69478",
   "metadata": {
    "papermill": {
     "duration": 0.096443,
     "end_time": "2022-04-05T08:20:06.191142",
     "exception": false,
     "start_time": "2022-04-05T08:20:06.094699",
     "status": "completed"
    },
    "tags": []
   },
   "source": [
    "## Categorical Feature Encoding\n",
    "- 문자열의 경우 수치형으로 변환해주어야 한다.\n",
    "- OneHot Encoding 방식"
   ]
  },
  {
   "cell_type": "markdown",
   "id": "e4fd6df9",
   "metadata": {
    "papermill": {
     "duration": 0.095499,
     "end_time": "2022-04-05T08:20:06.380813",
     "exception": false,
     "start_time": "2022-04-05T08:20:06.285314",
     "status": "completed"
    },
    "tags": []
   },
   "source": [
    "### Onehot Encoding\n"
   ]
  },
  {
   "cell_type": "code",
   "execution_count": 43,
   "id": "5bb399ad",
   "metadata": {
    "execution": {
     "iopub.execute_input": "2022-04-05T08:20:06.575931Z",
     "iopub.status.busy": "2022-04-05T08:20:06.575281Z",
     "iopub.status.idle": "2022-04-05T08:20:06.621423Z",
     "shell.execute_reply": "2022-04-05T08:20:06.621941Z",
     "shell.execute_reply.started": "2022-04-05T08:02:49.173693Z"
    },
    "papermill": {
     "duration": 0.146365,
     "end_time": "2022-04-05T08:20:06.622150",
     "exception": false,
     "start_time": "2022-04-05T08:20:06.475785",
     "status": "completed"
    },
    "tags": []
   },
   "outputs": [],
   "source": [
    "train_data['Transported'] = train_data['Transported'].map({True: 1, False: 0})\n",
    "categorical_cols = [\"HomePlanet\", \"CryoSleep\", \"Destination\", \"VIP\"]\n",
    "\n",
    "transformer = make_column_transformer(\n",
    "    (OneHotEncoder(), categorical_cols),\n",
    "    remainder='passthrough')\n",
    "\n",
    "train_transformed = transformer.fit_transform(train_data[categorical_cols])\n",
    "train_transformed_df = pd.DataFrame(train_transformed, columns=transformer.get_feature_names_out())\n",
    "train_data = pd.concat([train_data, train_transformed_df], axis = 1)\n",
    "train_data = train_data.drop(categorical_cols, axis = 1)\n",
    "\n",
    "test_transformed = transformer.fit_transform(test_data[categorical_cols])\n",
    "test_transformed_df = pd.DataFrame(test_transformed, columns=transformer.get_feature_names_out())\n",
    "test_data = pd.concat([test_data, test_transformed_df], axis = 1)\n",
    "test_data = test_data.drop(categorical_cols, axis = 1)"
   ]
  },
  {
   "cell_type": "markdown",
   "id": "a39ce2a9",
   "metadata": {
    "papermill": {
     "duration": 0.095401,
     "end_time": "2022-04-05T08:20:06.814328",
     "exception": false,
     "start_time": "2022-04-05T08:20:06.718927",
     "status": "completed"
    },
    "tags": []
   },
   "source": [
    "- 종속변수를 제외한 모든 열이 실수형이 된 것을 확인한다."
   ]
  },
  {
   "cell_type": "code",
   "execution_count": 44,
   "id": "c0f89dff",
   "metadata": {
    "execution": {
     "iopub.execute_input": "2022-04-05T08:20:07.016769Z",
     "iopub.status.busy": "2022-04-05T08:20:07.016054Z",
     "iopub.status.idle": "2022-04-05T08:20:07.028793Z",
     "shell.execute_reply": "2022-04-05T08:20:07.029459Z",
     "shell.execute_reply.started": "2022-04-05T08:02:53.970918Z"
    },
    "papermill": {
     "duration": 0.116033,
     "end_time": "2022-04-05T08:20:07.029725",
     "exception": false,
     "start_time": "2022-04-05T08:20:06.913692",
     "status": "completed"
    },
    "tags": []
   },
   "outputs": [
    {
     "name": "stdout",
     "output_type": "stream",
     "text": [
      "<class 'pandas.core.frame.DataFrame'>\n",
      "RangeIndex: 8693 entries, 0 to 8692\n",
      "Data columns (total 17 columns):\n",
      " #   Column                                    Non-Null Count  Dtype  \n",
      "---  ------                                    --------------  -----  \n",
      " 0   Age                                       8693 non-null   float64\n",
      " 1   RoomService                               8693 non-null   float64\n",
      " 2   FoodCourt                                 8693 non-null   float64\n",
      " 3   ShoppingMall                              8693 non-null   float64\n",
      " 4   Spa                                       8693 non-null   float64\n",
      " 5   VRDeck                                    8693 non-null   float64\n",
      " 6   Transported                               8693 non-null   int64  \n",
      " 7   onehotencoder__HomePlanet_Earth           8693 non-null   float64\n",
      " 8   onehotencoder__HomePlanet_Europa          8693 non-null   float64\n",
      " 9   onehotencoder__HomePlanet_Mars            8693 non-null   float64\n",
      " 10  onehotencoder__CryoSleep_False            8693 non-null   float64\n",
      " 11  onehotencoder__CryoSleep_True             8693 non-null   float64\n",
      " 12  onehotencoder__Destination_55 Cancri e    8693 non-null   float64\n",
      " 13  onehotencoder__Destination_PSO J318.5-22  8693 non-null   float64\n",
      " 14  onehotencoder__Destination_TRAPPIST-1e    8693 non-null   float64\n",
      " 15  onehotencoder__VIP_False                  8693 non-null   float64\n",
      " 16  onehotencoder__VIP_True                   8693 non-null   float64\n",
      "dtypes: float64(16), int64(1)\n",
      "memory usage: 1.1 MB\n"
     ]
    }
   ],
   "source": [
    "train_data.info()"
   ]
  },
  {
   "cell_type": "code",
   "execution_count": 45,
   "id": "cf7e55cd",
   "metadata": {
    "execution": {
     "iopub.execute_input": "2022-04-05T08:20:07.234874Z",
     "iopub.status.busy": "2022-04-05T08:20:07.234259Z",
     "iopub.status.idle": "2022-04-05T08:20:07.245343Z",
     "shell.execute_reply": "2022-04-05T08:20:07.245804Z",
     "shell.execute_reply.started": "2022-04-05T08:02:57.254605Z"
    },
    "papermill": {
     "duration": 0.110339,
     "end_time": "2022-04-05T08:20:07.246017",
     "exception": false,
     "start_time": "2022-04-05T08:20:07.135678",
     "status": "completed"
    },
    "tags": []
   },
   "outputs": [
    {
     "name": "stdout",
     "output_type": "stream",
     "text": [
      "<class 'pandas.core.frame.DataFrame'>\n",
      "RangeIndex: 4277 entries, 0 to 4276\n",
      "Data columns (total 16 columns):\n",
      " #   Column                                    Non-Null Count  Dtype  \n",
      "---  ------                                    --------------  -----  \n",
      " 0   Age                                       4277 non-null   float64\n",
      " 1   RoomService                               4277 non-null   float64\n",
      " 2   FoodCourt                                 4277 non-null   float64\n",
      " 3   ShoppingMall                              4277 non-null   float64\n",
      " 4   Spa                                       4277 non-null   float64\n",
      " 5   VRDeck                                    4277 non-null   float64\n",
      " 6   onehotencoder__HomePlanet_Earth           4277 non-null   float64\n",
      " 7   onehotencoder__HomePlanet_Europa          4277 non-null   float64\n",
      " 8   onehotencoder__HomePlanet_Mars            4277 non-null   float64\n",
      " 9   onehotencoder__CryoSleep_False            4277 non-null   float64\n",
      " 10  onehotencoder__CryoSleep_True             4277 non-null   float64\n",
      " 11  onehotencoder__Destination_55 Cancri e    4277 non-null   float64\n",
      " 12  onehotencoder__Destination_PSO J318.5-22  4277 non-null   float64\n",
      " 13  onehotencoder__Destination_TRAPPIST-1e    4277 non-null   float64\n",
      " 14  onehotencoder__VIP_False                  4277 non-null   float64\n",
      " 15  onehotencoder__VIP_True                   4277 non-null   float64\n",
      "dtypes: float64(16)\n",
      "memory usage: 534.8 KB\n"
     ]
    }
   ],
   "source": [
    "test_data.info()"
   ]
  },
  {
   "cell_type": "markdown",
   "id": "a5674714",
   "metadata": {
    "papermill": {
     "duration": 0.096738,
     "end_time": "2022-04-05T08:20:07.440353",
     "exception": false,
     "start_time": "2022-04-05T08:20:07.343615",
     "status": "completed"
    },
    "tags": []
   },
   "source": [
    "# Step 4. 머신러닝 모형 개발"
   ]
  },
  {
   "cell_type": "markdown",
   "id": "45c7010e",
   "metadata": {
    "papermill": {
     "duration": 0.095362,
     "end_time": "2022-04-05T08:20:07.633669",
     "exception": false,
     "start_time": "2022-04-05T08:20:07.538307",
     "status": "completed"
    },
    "tags": []
   },
   "source": [
    "\n",
    "- 독립변수와 족송변수를 구분한다."
   ]
  },
  {
   "cell_type": "code",
   "execution_count": 46,
   "id": "5be0acd8",
   "metadata": {
    "execution": {
     "iopub.execute_input": "2022-04-05T08:20:07.830372Z",
     "iopub.status.busy": "2022-04-05T08:20:07.829660Z",
     "iopub.status.idle": "2022-04-05T08:20:07.834458Z",
     "shell.execute_reply": "2022-04-05T08:20:07.835046Z",
     "shell.execute_reply.started": "2022-04-05T08:03:07.911581Z"
    },
    "papermill": {
     "duration": 0.105338,
     "end_time": "2022-04-05T08:20:07.835234",
     "exception": false,
     "start_time": "2022-04-05T08:20:07.729896",
     "status": "completed"
    },
    "tags": []
   },
   "outputs": [],
   "source": [
    "X_cols = test_data.columns\n",
    "X = train_data[X_cols].to_numpy()\n",
    "y = train_data['Transported'].to_numpy()"
   ]
  },
  {
   "cell_type": "markdown",
   "id": "be2379e0",
   "metadata": {
    "papermill": {
     "duration": 0.102355,
     "end_time": "2022-04-05T08:20:08.036288",
     "exception": false,
     "start_time": "2022-04-05T08:20:07.933933",
     "status": "completed"
    },
    "tags": []
   },
   "source": [
    "- 훈련 데이터에서 일부를 검증데이터로 떼어낸다. "
   ]
  },
  {
   "cell_type": "code",
   "execution_count": 47,
   "id": "9b7868e5",
   "metadata": {
    "execution": {
     "iopub.execute_input": "2022-04-05T08:20:08.235585Z",
     "iopub.status.busy": "2022-04-05T08:20:08.234949Z",
     "iopub.status.idle": "2022-04-05T08:20:08.244701Z",
     "shell.execute_reply": "2022-04-05T08:20:08.244125Z",
     "shell.execute_reply.started": "2022-04-05T08:03:11.171649Z"
    },
    "papermill": {
     "duration": 0.11007,
     "end_time": "2022-04-05T08:20:08.244858",
     "exception": false,
     "start_time": "2022-04-05T08:20:08.134788",
     "status": "completed"
    },
    "tags": []
   },
   "outputs": [
    {
     "data": {
      "text/plain": [
       "((6085, 16), (2608, 16), (6085,), (2608,))"
      ]
     },
     "execution_count": 47,
     "metadata": {},
     "output_type": "execute_result"
    }
   ],
   "source": [
    "from sklearn.model_selection import train_test_split\n",
    "X_train, X_val, y_train, y_val = train_test_split(X, y, test_size=0.3, random_state=42)\n",
    "X_train.shape, X_val.shape, y_train.shape, y_val.shape"
   ]
  },
  {
   "cell_type": "markdown",
   "id": "9cd8edf3",
   "metadata": {
    "papermill": {
     "duration": 0.098714,
     "end_time": "2022-04-05T08:20:08.441868",
     "exception": false,
     "start_time": "2022-04-05T08:20:08.343154",
     "status": "completed"
    },
    "tags": []
   },
   "source": [
    "- LightGBM 클래스를 임포트한다."
   ]
  },
  {
   "cell_type": "code",
   "execution_count": 48,
   "id": "fd9c4fcd",
   "metadata": {
    "execution": {
     "iopub.execute_input": "2022-04-05T08:20:08.644235Z",
     "iopub.status.busy": "2022-04-05T08:20:08.643484Z",
     "iopub.status.idle": "2022-04-05T08:20:08.650447Z",
     "shell.execute_reply": "2022-04-05T08:20:08.651100Z",
     "shell.execute_reply.started": "2022-04-05T08:03:25.680723Z"
    },
    "papermill": {
     "duration": 0.109805,
     "end_time": "2022-04-05T08:20:08.651296",
     "exception": false,
     "start_time": "2022-04-05T08:20:08.541491",
     "status": "completed"
    },
    "tags": []
   },
   "outputs": [
    {
     "data": {
      "text/plain": [
       "LGBMClassifier(random_state=42)"
      ]
     },
     "execution_count": 48,
     "metadata": {},
     "output_type": "execute_result"
    }
   ],
   "source": [
    "lgb = LGBMClassifier(random_state=42)\n",
    "lgb"
   ]
  },
  {
   "cell_type": "markdown",
   "id": "b6164586",
   "metadata": {
    "papermill": {
     "duration": 0.096983,
     "end_time": "2022-04-05T08:20:08.847171",
     "exception": false,
     "start_time": "2022-04-05T08:20:08.750188",
     "status": "completed"
    },
    "tags": []
   },
   "source": [
    "## Model Selection\n",
    "- 그리드 서치를 적용한다."
   ]
  },
  {
   "cell_type": "markdown",
   "id": "4eb727bc",
   "metadata": {
    "papermill": {
     "duration": 0.100793,
     "end_time": "2022-04-05T08:20:09.047488",
     "exception": false,
     "start_time": "2022-04-05T08:20:08.946695",
     "status": "completed"
    },
    "tags": []
   },
   "source": [
    "- 모형을 정의한다."
   ]
  },
  {
   "cell_type": "code",
   "execution_count": 49,
   "id": "d28672e2",
   "metadata": {
    "execution": {
     "iopub.execute_input": "2022-04-05T08:20:09.246248Z",
     "iopub.status.busy": "2022-04-05T08:20:09.245539Z",
     "iopub.status.idle": "2022-04-05T08:20:09.251335Z",
     "shell.execute_reply": "2022-04-05T08:20:09.251791Z",
     "shell.execute_reply.started": "2022-04-05T08:03:29.922290Z"
    },
    "papermill": {
     "duration": 0.105748,
     "end_time": "2022-04-05T08:20:09.251979",
     "exception": false,
     "start_time": "2022-04-05T08:20:09.146231",
     "status": "completed"
    },
    "tags": []
   },
   "outputs": [],
   "source": [
    "# Models\n",
    "from sklearn.linear_model import LogisticRegression\n",
    "from sklearn.neighbors import KNeighborsClassifier\n",
    "from sklearn.svm import SVC\n",
    "from sklearn.tree import DecisionTreeClassifier\n",
    "from sklearn.ensemble import RandomForestClassifier\n",
    "from xgboost import XGBClassifier\n",
    "from lightgbm import LGBMClassifier\n",
    "from catboost import CatBoostClassifier\n",
    "from sklearn.naive_bayes import GaussianNB\n",
    "\n",
    "# Classifiers\n",
    "classifiers = {\n",
    "    \"LogisticRegression\" : LogisticRegression(random_state=0),\n",
    "    \"KNN\" : KNeighborsClassifier(),\n",
    "    \"RandomForest\" : RandomForestClassifier(random_state=0),\n",
    "    \"LGBM\" : LGBMClassifier(random_state=0)\n",
    "}"
   ]
  },
  {
   "cell_type": "markdown",
   "id": "74876daf",
   "metadata": {
    "papermill": {
     "duration": 0.09708,
     "end_time": "2022-04-05T08:20:09.444853",
     "exception": false,
     "start_time": "2022-04-05T08:20:09.347773",
     "status": "completed"
    },
    "tags": []
   },
   "source": [
    "- 그리드 서치를 위한 옵션을 선택한다."
   ]
  },
  {
   "cell_type": "code",
   "execution_count": 50,
   "id": "411625a2",
   "metadata": {
    "execution": {
     "iopub.execute_input": "2022-04-05T08:20:09.641543Z",
     "iopub.status.busy": "2022-04-05T08:20:09.640894Z",
     "iopub.status.idle": "2022-04-05T08:20:09.647596Z",
     "shell.execute_reply": "2022-04-05T08:20:09.648045Z",
     "shell.execute_reply.started": "2022-04-05T08:03:33.016213Z"
    },
    "papermill": {
     "duration": 0.10597,
     "end_time": "2022-04-05T08:20:09.648224",
     "exception": false,
     "start_time": "2022-04-05T08:20:09.542254",
     "status": "completed"
    },
    "tags": []
   },
   "outputs": [],
   "source": [
    "# Grids for grid search\n",
    "LR_grid = {'penalty': ['l1','l2'],\n",
    "           'C': [0.25, 0.5, 0.75, 1, 1.25, 1.5],\n",
    "           'max_iter': [50, 100, 150]}\n",
    "\n",
    "KNN_grid = {'n_neighbors': [3, 5, 7, 9],\n",
    "            'p': [1, 2]}\n",
    "\n",
    "RF_grid = {'n_estimators': [50, 100, 150, 200, 250, 300],\n",
    "        'max_depth': [4, 6, 8, 10, 12]}\n",
    "\n",
    "boosted_grid = {'n_estimators': [50, 100, 150, 200],\n",
    "        'max_depth': [4, 8, 12],\n",
    "        'learning_rate': [0.05, 0.1, 0.15]}\n",
    "\n",
    "# Dictionary of all grids\n",
    "grid = {\n",
    "    \"LogisticRegression\" : LR_grid,\n",
    "    \"KNN\" : KNN_grid,\n",
    "    \"RandomForest\" : RF_grid,\n",
    "    \"LGBM\" : boosted_grid\n",
    "}"
   ]
  },
  {
   "cell_type": "markdown",
   "id": "2f6afac0",
   "metadata": {
    "papermill": {
     "duration": 0.09738,
     "end_time": "2022-04-05T08:20:09.843308",
     "exception": false,
     "start_time": "2022-04-05T08:20:09.745928",
     "status": "completed"
    },
    "tags": []
   },
   "source": [
    "- 모형과 그리드 서치를 정의한다."
   ]
  },
  {
   "cell_type": "code",
   "execution_count": 51,
   "id": "4a87c013",
   "metadata": {
    "execution": {
     "iopub.execute_input": "2022-04-05T08:20:10.046132Z",
     "iopub.status.busy": "2022-04-05T08:20:10.045434Z",
     "iopub.status.idle": "2022-04-05T08:21:15.398547Z",
     "shell.execute_reply": "2022-04-05T08:21:15.399521Z",
     "shell.execute_reply.started": "2022-04-05T08:03:35.599873Z"
    },
    "papermill": {
     "duration": 65.457215,
     "end_time": "2022-04-05T08:21:15.399754",
     "exception": false,
     "start_time": "2022-04-05T08:20:09.942539",
     "status": "completed"
    },
    "tags": []
   },
   "outputs": [
    {
     "name": "stderr",
     "output_type": "stream",
     "text": [
      "/opt/conda/lib/python3.7/site-packages/sklearn/linear_model/_logistic.py:818: ConvergenceWarning: lbfgs failed to converge (status=1):\n",
      "STOP: TOTAL NO. of ITERATIONS REACHED LIMIT.\n",
      "\n",
      "Increase the number of iterations (max_iter) or scale the data as shown in:\n",
      "    https://scikit-learn.org/stable/modules/preprocessing.html\n",
      "Please also refer to the documentation for alternative solver options:\n",
      "    https://scikit-learn.org/stable/modules/linear_model.html#logistic-regression\n",
      "  extra_warning_msg=_LOGISTIC_SOLVER_CONVERGENCE_MSG,\n",
      "/opt/conda/lib/python3.7/site-packages/sklearn/linear_model/_logistic.py:818: ConvergenceWarning: lbfgs failed to converge (status=1):\n",
      "STOP: TOTAL NO. of ITERATIONS REACHED LIMIT.\n",
      "\n",
      "Increase the number of iterations (max_iter) or scale the data as shown in:\n",
      "    https://scikit-learn.org/stable/modules/preprocessing.html\n",
      "Please also refer to the documentation for alternative solver options:\n",
      "    https://scikit-learn.org/stable/modules/linear_model.html#logistic-regression\n",
      "  extra_warning_msg=_LOGISTIC_SOLVER_CONVERGENCE_MSG,\n",
      "/opt/conda/lib/python3.7/site-packages/sklearn/linear_model/_logistic.py:818: ConvergenceWarning: lbfgs failed to converge (status=1):\n",
      "STOP: TOTAL NO. of ITERATIONS REACHED LIMIT.\n",
      "\n",
      "Increase the number of iterations (max_iter) or scale the data as shown in:\n",
      "    https://scikit-learn.org/stable/modules/preprocessing.html\n",
      "Please also refer to the documentation for alternative solver options:\n",
      "    https://scikit-learn.org/stable/modules/linear_model.html#logistic-regression\n",
      "  extra_warning_msg=_LOGISTIC_SOLVER_CONVERGENCE_MSG,\n",
      "/opt/conda/lib/python3.7/site-packages/sklearn/linear_model/_logistic.py:818: ConvergenceWarning: lbfgs failed to converge (status=1):\n",
      "STOP: TOTAL NO. of ITERATIONS REACHED LIMIT.\n",
      "\n",
      "Increase the number of iterations (max_iter) or scale the data as shown in:\n",
      "    https://scikit-learn.org/stable/modules/preprocessing.html\n",
      "Please also refer to the documentation for alternative solver options:\n",
      "    https://scikit-learn.org/stable/modules/linear_model.html#logistic-regression\n",
      "  extra_warning_msg=_LOGISTIC_SOLVER_CONVERGENCE_MSG,\n",
      "/opt/conda/lib/python3.7/site-packages/sklearn/linear_model/_logistic.py:818: ConvergenceWarning: lbfgs failed to converge (status=1):\n",
      "STOP: TOTAL NO. of ITERATIONS REACHED LIMIT.\n",
      "\n",
      "Increase the number of iterations (max_iter) or scale the data as shown in:\n",
      "    https://scikit-learn.org/stable/modules/preprocessing.html\n",
      "Please also refer to the documentation for alternative solver options:\n",
      "    https://scikit-learn.org/stable/modules/linear_model.html#logistic-regression\n",
      "  extra_warning_msg=_LOGISTIC_SOLVER_CONVERGENCE_MSG,\n",
      "/opt/conda/lib/python3.7/site-packages/sklearn/linear_model/_logistic.py:818: ConvergenceWarning: lbfgs failed to converge (status=1):\n",
      "STOP: TOTAL NO. of ITERATIONS REACHED LIMIT.\n",
      "\n",
      "Increase the number of iterations (max_iter) or scale the data as shown in:\n",
      "    https://scikit-learn.org/stable/modules/preprocessing.html\n",
      "Please also refer to the documentation for alternative solver options:\n",
      "    https://scikit-learn.org/stable/modules/linear_model.html#logistic-regression\n",
      "  extra_warning_msg=_LOGISTIC_SOLVER_CONVERGENCE_MSG,\n",
      "/opt/conda/lib/python3.7/site-packages/sklearn/linear_model/_logistic.py:818: ConvergenceWarning: lbfgs failed to converge (status=1):\n",
      "STOP: TOTAL NO. of ITERATIONS REACHED LIMIT.\n",
      "\n",
      "Increase the number of iterations (max_iter) or scale the data as shown in:\n",
      "    https://scikit-learn.org/stable/modules/preprocessing.html\n",
      "Please also refer to the documentation for alternative solver options:\n",
      "    https://scikit-learn.org/stable/modules/linear_model.html#logistic-regression\n",
      "  extra_warning_msg=_LOGISTIC_SOLVER_CONVERGENCE_MSG,\n",
      "/opt/conda/lib/python3.7/site-packages/sklearn/linear_model/_logistic.py:818: ConvergenceWarning: lbfgs failed to converge (status=1):\n",
      "STOP: TOTAL NO. of ITERATIONS REACHED LIMIT.\n",
      "\n",
      "Increase the number of iterations (max_iter) or scale the data as shown in:\n",
      "    https://scikit-learn.org/stable/modules/preprocessing.html\n",
      "Please also refer to the documentation for alternative solver options:\n",
      "    https://scikit-learn.org/stable/modules/linear_model.html#logistic-regression\n",
      "  extra_warning_msg=_LOGISTIC_SOLVER_CONVERGENCE_MSG,\n",
      "/opt/conda/lib/python3.7/site-packages/sklearn/linear_model/_logistic.py:818: ConvergenceWarning: lbfgs failed to converge (status=1):\n",
      "STOP: TOTAL NO. of ITERATIONS REACHED LIMIT.\n",
      "\n",
      "Increase the number of iterations (max_iter) or scale the data as shown in:\n",
      "    https://scikit-learn.org/stable/modules/preprocessing.html\n",
      "Please also refer to the documentation for alternative solver options:\n",
      "    https://scikit-learn.org/stable/modules/linear_model.html#logistic-regression\n",
      "  extra_warning_msg=_LOGISTIC_SOLVER_CONVERGENCE_MSG,\n",
      "/opt/conda/lib/python3.7/site-packages/sklearn/linear_model/_logistic.py:818: ConvergenceWarning: lbfgs failed to converge (status=1):\n",
      "STOP: TOTAL NO. of ITERATIONS REACHED LIMIT.\n",
      "\n",
      "Increase the number of iterations (max_iter) or scale the data as shown in:\n",
      "    https://scikit-learn.org/stable/modules/preprocessing.html\n",
      "Please also refer to the documentation for alternative solver options:\n",
      "    https://scikit-learn.org/stable/modules/linear_model.html#logistic-regression\n",
      "  extra_warning_msg=_LOGISTIC_SOLVER_CONVERGENCE_MSG,\n",
      "/opt/conda/lib/python3.7/site-packages/sklearn/linear_model/_logistic.py:818: ConvergenceWarning: lbfgs failed to converge (status=1):\n",
      "STOP: TOTAL NO. of ITERATIONS REACHED LIMIT.\n",
      "\n",
      "Increase the number of iterations (max_iter) or scale the data as shown in:\n",
      "    https://scikit-learn.org/stable/modules/preprocessing.html\n",
      "Please also refer to the documentation for alternative solver options:\n",
      "    https://scikit-learn.org/stable/modules/linear_model.html#logistic-regression\n",
      "  extra_warning_msg=_LOGISTIC_SOLVER_CONVERGENCE_MSG,\n",
      "/opt/conda/lib/python3.7/site-packages/sklearn/linear_model/_logistic.py:818: ConvergenceWarning: lbfgs failed to converge (status=1):\n",
      "STOP: TOTAL NO. of ITERATIONS REACHED LIMIT.\n",
      "\n",
      "Increase the number of iterations (max_iter) or scale the data as shown in:\n",
      "    https://scikit-learn.org/stable/modules/preprocessing.html\n",
      "Please also refer to the documentation for alternative solver options:\n",
      "    https://scikit-learn.org/stable/modules/linear_model.html#logistic-regression\n",
      "  extra_warning_msg=_LOGISTIC_SOLVER_CONVERGENCE_MSG,\n",
      "/opt/conda/lib/python3.7/site-packages/sklearn/linear_model/_logistic.py:818: ConvergenceWarning: lbfgs failed to converge (status=1):\n",
      "STOP: TOTAL NO. of ITERATIONS REACHED LIMIT.\n",
      "\n",
      "Increase the number of iterations (max_iter) or scale the data as shown in:\n",
      "    https://scikit-learn.org/stable/modules/preprocessing.html\n",
      "Please also refer to the documentation for alternative solver options:\n",
      "    https://scikit-learn.org/stable/modules/linear_model.html#logistic-regression\n",
      "  extra_warning_msg=_LOGISTIC_SOLVER_CONVERGENCE_MSG,\n",
      "/opt/conda/lib/python3.7/site-packages/sklearn/linear_model/_logistic.py:818: ConvergenceWarning: lbfgs failed to converge (status=1):\n",
      "STOP: TOTAL NO. of ITERATIONS REACHED LIMIT.\n",
      "\n",
      "Increase the number of iterations (max_iter) or scale the data as shown in:\n",
      "    https://scikit-learn.org/stable/modules/preprocessing.html\n",
      "Please also refer to the documentation for alternative solver options:\n",
      "    https://scikit-learn.org/stable/modules/linear_model.html#logistic-regression\n",
      "  extra_warning_msg=_LOGISTIC_SOLVER_CONVERGENCE_MSG,\n",
      "/opt/conda/lib/python3.7/site-packages/sklearn/linear_model/_logistic.py:818: ConvergenceWarning: lbfgs failed to converge (status=1):\n",
      "STOP: TOTAL NO. of ITERATIONS REACHED LIMIT.\n",
      "\n",
      "Increase the number of iterations (max_iter) or scale the data as shown in:\n",
      "    https://scikit-learn.org/stable/modules/preprocessing.html\n",
      "Please also refer to the documentation for alternative solver options:\n",
      "    https://scikit-learn.org/stable/modules/linear_model.html#logistic-regression\n",
      "  extra_warning_msg=_LOGISTIC_SOLVER_CONVERGENCE_MSG,\n",
      "/opt/conda/lib/python3.7/site-packages/sklearn/linear_model/_logistic.py:818: ConvergenceWarning: lbfgs failed to converge (status=1):\n",
      "STOP: TOTAL NO. of ITERATIONS REACHED LIMIT.\n",
      "\n",
      "Increase the number of iterations (max_iter) or scale the data as shown in:\n",
      "    https://scikit-learn.org/stable/modules/preprocessing.html\n",
      "Please also refer to the documentation for alternative solver options:\n",
      "    https://scikit-learn.org/stable/modules/linear_model.html#logistic-regression\n",
      "  extra_warning_msg=_LOGISTIC_SOLVER_CONVERGENCE_MSG,\n",
      "/opt/conda/lib/python3.7/site-packages/sklearn/linear_model/_logistic.py:818: ConvergenceWarning: lbfgs failed to converge (status=1):\n",
      "STOP: TOTAL NO. of ITERATIONS REACHED LIMIT.\n",
      "\n",
      "Increase the number of iterations (max_iter) or scale the data as shown in:\n",
      "    https://scikit-learn.org/stable/modules/preprocessing.html\n",
      "Please also refer to the documentation for alternative solver options:\n",
      "    https://scikit-learn.org/stable/modules/linear_model.html#logistic-regression\n",
      "  extra_warning_msg=_LOGISTIC_SOLVER_CONVERGENCE_MSG,\n",
      "/opt/conda/lib/python3.7/site-packages/sklearn/linear_model/_logistic.py:818: ConvergenceWarning: lbfgs failed to converge (status=1):\n",
      "STOP: TOTAL NO. of ITERATIONS REACHED LIMIT.\n",
      "\n",
      "Increase the number of iterations (max_iter) or scale the data as shown in:\n",
      "    https://scikit-learn.org/stable/modules/preprocessing.html\n",
      "Please also refer to the documentation for alternative solver options:\n",
      "    https://scikit-learn.org/stable/modules/linear_model.html#logistic-regression\n",
      "  extra_warning_msg=_LOGISTIC_SOLVER_CONVERGENCE_MSG,\n",
      "/opt/conda/lib/python3.7/site-packages/sklearn/linear_model/_logistic.py:818: ConvergenceWarning: lbfgs failed to converge (status=1):\n",
      "STOP: TOTAL NO. of ITERATIONS REACHED LIMIT.\n",
      "\n",
      "Increase the number of iterations (max_iter) or scale the data as shown in:\n",
      "    https://scikit-learn.org/stable/modules/preprocessing.html\n",
      "Please also refer to the documentation for alternative solver options:\n",
      "    https://scikit-learn.org/stable/modules/linear_model.html#logistic-regression\n",
      "  extra_warning_msg=_LOGISTIC_SOLVER_CONVERGENCE_MSG,\n",
      "/opt/conda/lib/python3.7/site-packages/sklearn/linear_model/_logistic.py:818: ConvergenceWarning: lbfgs failed to converge (status=1):\n",
      "STOP: TOTAL NO. of ITERATIONS REACHED LIMIT.\n",
      "\n",
      "Increase the number of iterations (max_iter) or scale the data as shown in:\n",
      "    https://scikit-learn.org/stable/modules/preprocessing.html\n",
      "Please also refer to the documentation for alternative solver options:\n",
      "    https://scikit-learn.org/stable/modules/linear_model.html#logistic-regression\n",
      "  extra_warning_msg=_LOGISTIC_SOLVER_CONVERGENCE_MSG,\n",
      "/opt/conda/lib/python3.7/site-packages/sklearn/linear_model/_logistic.py:818: ConvergenceWarning: lbfgs failed to converge (status=1):\n",
      "STOP: TOTAL NO. of ITERATIONS REACHED LIMIT.\n",
      "\n",
      "Increase the number of iterations (max_iter) or scale the data as shown in:\n",
      "    https://scikit-learn.org/stable/modules/preprocessing.html\n",
      "Please also refer to the documentation for alternative solver options:\n",
      "    https://scikit-learn.org/stable/modules/linear_model.html#logistic-regression\n",
      "  extra_warning_msg=_LOGISTIC_SOLVER_CONVERGENCE_MSG,\n",
      "/opt/conda/lib/python3.7/site-packages/sklearn/linear_model/_logistic.py:818: ConvergenceWarning: lbfgs failed to converge (status=1):\n",
      "STOP: TOTAL NO. of ITERATIONS REACHED LIMIT.\n",
      "\n",
      "Increase the number of iterations (max_iter) or scale the data as shown in:\n",
      "    https://scikit-learn.org/stable/modules/preprocessing.html\n",
      "Please also refer to the documentation for alternative solver options:\n",
      "    https://scikit-learn.org/stable/modules/linear_model.html#logistic-regression\n",
      "  extra_warning_msg=_LOGISTIC_SOLVER_CONVERGENCE_MSG,\n",
      "/opt/conda/lib/python3.7/site-packages/sklearn/linear_model/_logistic.py:818: ConvergenceWarning: lbfgs failed to converge (status=1):\n",
      "STOP: TOTAL NO. of ITERATIONS REACHED LIMIT.\n",
      "\n",
      "Increase the number of iterations (max_iter) or scale the data as shown in:\n",
      "    https://scikit-learn.org/stable/modules/preprocessing.html\n",
      "Please also refer to the documentation for alternative solver options:\n",
      "    https://scikit-learn.org/stable/modules/linear_model.html#logistic-regression\n",
      "  extra_warning_msg=_LOGISTIC_SOLVER_CONVERGENCE_MSG,\n",
      "/opt/conda/lib/python3.7/site-packages/sklearn/linear_model/_logistic.py:818: ConvergenceWarning: lbfgs failed to converge (status=1):\n",
      "STOP: TOTAL NO. of ITERATIONS REACHED LIMIT.\n",
      "\n",
      "Increase the number of iterations (max_iter) or scale the data as shown in:\n",
      "    https://scikit-learn.org/stable/modules/preprocessing.html\n",
      "Please also refer to the documentation for alternative solver options:\n",
      "    https://scikit-learn.org/stable/modules/linear_model.html#logistic-regression\n",
      "  extra_warning_msg=_LOGISTIC_SOLVER_CONVERGENCE_MSG,\n",
      "/opt/conda/lib/python3.7/site-packages/sklearn/linear_model/_logistic.py:818: ConvergenceWarning: lbfgs failed to converge (status=1):\n",
      "STOP: TOTAL NO. of ITERATIONS REACHED LIMIT.\n",
      "\n",
      "Increase the number of iterations (max_iter) or scale the data as shown in:\n",
      "    https://scikit-learn.org/stable/modules/preprocessing.html\n",
      "Please also refer to the documentation for alternative solver options:\n",
      "    https://scikit-learn.org/stable/modules/linear_model.html#logistic-regression\n",
      "  extra_warning_msg=_LOGISTIC_SOLVER_CONVERGENCE_MSG,\n",
      "/opt/conda/lib/python3.7/site-packages/sklearn/linear_model/_logistic.py:818: ConvergenceWarning: lbfgs failed to converge (status=1):\n",
      "STOP: TOTAL NO. of ITERATIONS REACHED LIMIT.\n",
      "\n",
      "Increase the number of iterations (max_iter) or scale the data as shown in:\n",
      "    https://scikit-learn.org/stable/modules/preprocessing.html\n",
      "Please also refer to the documentation for alternative solver options:\n",
      "    https://scikit-learn.org/stable/modules/linear_model.html#logistic-regression\n",
      "  extra_warning_msg=_LOGISTIC_SOLVER_CONVERGENCE_MSG,\n",
      "/opt/conda/lib/python3.7/site-packages/sklearn/linear_model/_logistic.py:818: ConvergenceWarning: lbfgs failed to converge (status=1):\n",
      "STOP: TOTAL NO. of ITERATIONS REACHED LIMIT.\n",
      "\n",
      "Increase the number of iterations (max_iter) or scale the data as shown in:\n",
      "    https://scikit-learn.org/stable/modules/preprocessing.html\n",
      "Please also refer to the documentation for alternative solver options:\n",
      "    https://scikit-learn.org/stable/modules/linear_model.html#logistic-regression\n",
      "  extra_warning_msg=_LOGISTIC_SOLVER_CONVERGENCE_MSG,\n",
      "/opt/conda/lib/python3.7/site-packages/sklearn/linear_model/_logistic.py:818: ConvergenceWarning: lbfgs failed to converge (status=1):\n",
      "STOP: TOTAL NO. of ITERATIONS REACHED LIMIT.\n",
      "\n",
      "Increase the number of iterations (max_iter) or scale the data as shown in:\n",
      "    https://scikit-learn.org/stable/modules/preprocessing.html\n",
      "Please also refer to the documentation for alternative solver options:\n",
      "    https://scikit-learn.org/stable/modules/linear_model.html#logistic-regression\n",
      "  extra_warning_msg=_LOGISTIC_SOLVER_CONVERGENCE_MSG,\n",
      "/opt/conda/lib/python3.7/site-packages/sklearn/linear_model/_logistic.py:818: ConvergenceWarning: lbfgs failed to converge (status=1):\n",
      "STOP: TOTAL NO. of ITERATIONS REACHED LIMIT.\n",
      "\n",
      "Increase the number of iterations (max_iter) or scale the data as shown in:\n",
      "    https://scikit-learn.org/stable/modules/preprocessing.html\n",
      "Please also refer to the documentation for alternative solver options:\n",
      "    https://scikit-learn.org/stable/modules/linear_model.html#logistic-regression\n",
      "  extra_warning_msg=_LOGISTIC_SOLVER_CONVERGENCE_MSG,\n",
      "/opt/conda/lib/python3.7/site-packages/sklearn/linear_model/_logistic.py:818: ConvergenceWarning: lbfgs failed to converge (status=1):\n",
      "STOP: TOTAL NO. of ITERATIONS REACHED LIMIT.\n",
      "\n",
      "Increase the number of iterations (max_iter) or scale the data as shown in:\n",
      "    https://scikit-learn.org/stable/modules/preprocessing.html\n",
      "Please also refer to the documentation for alternative solver options:\n",
      "    https://scikit-learn.org/stable/modules/linear_model.html#logistic-regression\n",
      "  extra_warning_msg=_LOGISTIC_SOLVER_CONVERGENCE_MSG,\n",
      "/opt/conda/lib/python3.7/site-packages/sklearn/linear_model/_logistic.py:818: ConvergenceWarning: lbfgs failed to converge (status=1):\n",
      "STOP: TOTAL NO. of ITERATIONS REACHED LIMIT.\n",
      "\n",
      "Increase the number of iterations (max_iter) or scale the data as shown in:\n",
      "    https://scikit-learn.org/stable/modules/preprocessing.html\n",
      "Please also refer to the documentation for alternative solver options:\n",
      "    https://scikit-learn.org/stable/modules/linear_model.html#logistic-regression\n",
      "  extra_warning_msg=_LOGISTIC_SOLVER_CONVERGENCE_MSG,\n",
      "/opt/conda/lib/python3.7/site-packages/sklearn/linear_model/_logistic.py:818: ConvergenceWarning: lbfgs failed to converge (status=1):\n",
      "STOP: TOTAL NO. of ITERATIONS REACHED LIMIT.\n",
      "\n",
      "Increase the number of iterations (max_iter) or scale the data as shown in:\n",
      "    https://scikit-learn.org/stable/modules/preprocessing.html\n",
      "Please also refer to the documentation for alternative solver options:\n",
      "    https://scikit-learn.org/stable/modules/linear_model.html#logistic-regression\n",
      "  extra_warning_msg=_LOGISTIC_SOLVER_CONVERGENCE_MSG,\n",
      "/opt/conda/lib/python3.7/site-packages/sklearn/linear_model/_logistic.py:818: ConvergenceWarning: lbfgs failed to converge (status=1):\n",
      "STOP: TOTAL NO. of ITERATIONS REACHED LIMIT.\n",
      "\n",
      "Increase the number of iterations (max_iter) or scale the data as shown in:\n",
      "    https://scikit-learn.org/stable/modules/preprocessing.html\n",
      "Please also refer to the documentation for alternative solver options:\n",
      "    https://scikit-learn.org/stable/modules/linear_model.html#logistic-regression\n",
      "  extra_warning_msg=_LOGISTIC_SOLVER_CONVERGENCE_MSG,\n",
      "/opt/conda/lib/python3.7/site-packages/sklearn/linear_model/_logistic.py:818: ConvergenceWarning: lbfgs failed to converge (status=1):\n",
      "STOP: TOTAL NO. of ITERATIONS REACHED LIMIT.\n",
      "\n",
      "Increase the number of iterations (max_iter) or scale the data as shown in:\n",
      "    https://scikit-learn.org/stable/modules/preprocessing.html\n",
      "Please also refer to the documentation for alternative solver options:\n",
      "    https://scikit-learn.org/stable/modules/linear_model.html#logistic-regression\n",
      "  extra_warning_msg=_LOGISTIC_SOLVER_CONVERGENCE_MSG,\n",
      "/opt/conda/lib/python3.7/site-packages/sklearn/linear_model/_logistic.py:818: ConvergenceWarning: lbfgs failed to converge (status=1):\n",
      "STOP: TOTAL NO. of ITERATIONS REACHED LIMIT.\n",
      "\n",
      "Increase the number of iterations (max_iter) or scale the data as shown in:\n",
      "    https://scikit-learn.org/stable/modules/preprocessing.html\n",
      "Please also refer to the documentation for alternative solver options:\n",
      "    https://scikit-learn.org/stable/modules/linear_model.html#logistic-regression\n",
      "  extra_warning_msg=_LOGISTIC_SOLVER_CONVERGENCE_MSG,\n",
      "/opt/conda/lib/python3.7/site-packages/sklearn/linear_model/_logistic.py:818: ConvergenceWarning: lbfgs failed to converge (status=1):\n",
      "STOP: TOTAL NO. of ITERATIONS REACHED LIMIT.\n",
      "\n",
      "Increase the number of iterations (max_iter) or scale the data as shown in:\n",
      "    https://scikit-learn.org/stable/modules/preprocessing.html\n",
      "Please also refer to the documentation for alternative solver options:\n",
      "    https://scikit-learn.org/stable/modules/linear_model.html#logistic-regression\n",
      "  extra_warning_msg=_LOGISTIC_SOLVER_CONVERGENCE_MSG,\n",
      "/opt/conda/lib/python3.7/site-packages/sklearn/linear_model/_logistic.py:818: ConvergenceWarning: lbfgs failed to converge (status=1):\n",
      "STOP: TOTAL NO. of ITERATIONS REACHED LIMIT.\n",
      "\n",
      "Increase the number of iterations (max_iter) or scale the data as shown in:\n",
      "    https://scikit-learn.org/stable/modules/preprocessing.html\n",
      "Please also refer to the documentation for alternative solver options:\n",
      "    https://scikit-learn.org/stable/modules/linear_model.html#logistic-regression\n",
      "  extra_warning_msg=_LOGISTIC_SOLVER_CONVERGENCE_MSG,\n",
      "/opt/conda/lib/python3.7/site-packages/sklearn/linear_model/_logistic.py:818: ConvergenceWarning: lbfgs failed to converge (status=1):\n",
      "STOP: TOTAL NO. of ITERATIONS REACHED LIMIT.\n",
      "\n",
      "Increase the number of iterations (max_iter) or scale the data as shown in:\n",
      "    https://scikit-learn.org/stable/modules/preprocessing.html\n",
      "Please also refer to the documentation for alternative solver options:\n",
      "    https://scikit-learn.org/stable/modules/linear_model.html#logistic-regression\n",
      "  extra_warning_msg=_LOGISTIC_SOLVER_CONVERGENCE_MSG,\n",
      "/opt/conda/lib/python3.7/site-packages/sklearn/linear_model/_logistic.py:818: ConvergenceWarning: lbfgs failed to converge (status=1):\n",
      "STOP: TOTAL NO. of ITERATIONS REACHED LIMIT.\n",
      "\n",
      "Increase the number of iterations (max_iter) or scale the data as shown in:\n",
      "    https://scikit-learn.org/stable/modules/preprocessing.html\n",
      "Please also refer to the documentation for alternative solver options:\n",
      "    https://scikit-learn.org/stable/modules/linear_model.html#logistic-regression\n",
      "  extra_warning_msg=_LOGISTIC_SOLVER_CONVERGENCE_MSG,\n",
      "/opt/conda/lib/python3.7/site-packages/sklearn/linear_model/_logistic.py:818: ConvergenceWarning: lbfgs failed to converge (status=1):\n",
      "STOP: TOTAL NO. of ITERATIONS REACHED LIMIT.\n",
      "\n",
      "Increase the number of iterations (max_iter) or scale the data as shown in:\n",
      "    https://scikit-learn.org/stable/modules/preprocessing.html\n",
      "Please also refer to the documentation for alternative solver options:\n",
      "    https://scikit-learn.org/stable/modules/linear_model.html#logistic-regression\n",
      "  extra_warning_msg=_LOGISTIC_SOLVER_CONVERGENCE_MSG,\n",
      "/opt/conda/lib/python3.7/site-packages/sklearn/linear_model/_logistic.py:818: ConvergenceWarning: lbfgs failed to converge (status=1):\n",
      "STOP: TOTAL NO. of ITERATIONS REACHED LIMIT.\n",
      "\n",
      "Increase the number of iterations (max_iter) or scale the data as shown in:\n",
      "    https://scikit-learn.org/stable/modules/preprocessing.html\n",
      "Please also refer to the documentation for alternative solver options:\n",
      "    https://scikit-learn.org/stable/modules/linear_model.html#logistic-regression\n",
      "  extra_warning_msg=_LOGISTIC_SOLVER_CONVERGENCE_MSG,\n",
      "/opt/conda/lib/python3.7/site-packages/sklearn/linear_model/_logistic.py:818: ConvergenceWarning: lbfgs failed to converge (status=1):\n",
      "STOP: TOTAL NO. of ITERATIONS REACHED LIMIT.\n",
      "\n",
      "Increase the number of iterations (max_iter) or scale the data as shown in:\n",
      "    https://scikit-learn.org/stable/modules/preprocessing.html\n",
      "Please also refer to the documentation for alternative solver options:\n",
      "    https://scikit-learn.org/stable/modules/linear_model.html#logistic-regression\n",
      "  extra_warning_msg=_LOGISTIC_SOLVER_CONVERGENCE_MSG,\n",
      "/opt/conda/lib/python3.7/site-packages/sklearn/linear_model/_logistic.py:818: ConvergenceWarning: lbfgs failed to converge (status=1):\n",
      "STOP: TOTAL NO. of ITERATIONS REACHED LIMIT.\n",
      "\n",
      "Increase the number of iterations (max_iter) or scale the data as shown in:\n",
      "    https://scikit-learn.org/stable/modules/preprocessing.html\n",
      "Please also refer to the documentation for alternative solver options:\n",
      "    https://scikit-learn.org/stable/modules/linear_model.html#logistic-regression\n",
      "  extra_warning_msg=_LOGISTIC_SOLVER_CONVERGENCE_MSG,\n",
      "/opt/conda/lib/python3.7/site-packages/sklearn/linear_model/_logistic.py:818: ConvergenceWarning: lbfgs failed to converge (status=1):\n",
      "STOP: TOTAL NO. of ITERATIONS REACHED LIMIT.\n",
      "\n",
      "Increase the number of iterations (max_iter) or scale the data as shown in:\n",
      "    https://scikit-learn.org/stable/modules/preprocessing.html\n",
      "Please also refer to the documentation for alternative solver options:\n",
      "    https://scikit-learn.org/stable/modules/linear_model.html#logistic-regression\n",
      "  extra_warning_msg=_LOGISTIC_SOLVER_CONVERGENCE_MSG,\n",
      "/opt/conda/lib/python3.7/site-packages/sklearn/linear_model/_logistic.py:818: ConvergenceWarning: lbfgs failed to converge (status=1):\n",
      "STOP: TOTAL NO. of ITERATIONS REACHED LIMIT.\n",
      "\n",
      "Increase the number of iterations (max_iter) or scale the data as shown in:\n",
      "    https://scikit-learn.org/stable/modules/preprocessing.html\n",
      "Please also refer to the documentation for alternative solver options:\n",
      "    https://scikit-learn.org/stable/modules/linear_model.html#logistic-regression\n",
      "  extra_warning_msg=_LOGISTIC_SOLVER_CONVERGENCE_MSG,\n",
      "/opt/conda/lib/python3.7/site-packages/sklearn/linear_model/_logistic.py:818: ConvergenceWarning: lbfgs failed to converge (status=1):\n",
      "STOP: TOTAL NO. of ITERATIONS REACHED LIMIT.\n",
      "\n",
      "Increase the number of iterations (max_iter) or scale the data as shown in:\n",
      "    https://scikit-learn.org/stable/modules/preprocessing.html\n",
      "Please also refer to the documentation for alternative solver options:\n",
      "    https://scikit-learn.org/stable/modules/linear_model.html#logistic-regression\n",
      "  extra_warning_msg=_LOGISTIC_SOLVER_CONVERGENCE_MSG,\n",
      "/opt/conda/lib/python3.7/site-packages/sklearn/linear_model/_logistic.py:818: ConvergenceWarning: lbfgs failed to converge (status=1):\n",
      "STOP: TOTAL NO. of ITERATIONS REACHED LIMIT.\n",
      "\n",
      "Increase the number of iterations (max_iter) or scale the data as shown in:\n",
      "    https://scikit-learn.org/stable/modules/preprocessing.html\n",
      "Please also refer to the documentation for alternative solver options:\n",
      "    https://scikit-learn.org/stable/modules/linear_model.html#logistic-regression\n",
      "  extra_warning_msg=_LOGISTIC_SOLVER_CONVERGENCE_MSG,\n",
      "/opt/conda/lib/python3.7/site-packages/sklearn/linear_model/_logistic.py:818: ConvergenceWarning: lbfgs failed to converge (status=1):\n",
      "STOP: TOTAL NO. of ITERATIONS REACHED LIMIT.\n",
      "\n",
      "Increase the number of iterations (max_iter) or scale the data as shown in:\n",
      "    https://scikit-learn.org/stable/modules/preprocessing.html\n",
      "Please also refer to the documentation for alternative solver options:\n",
      "    https://scikit-learn.org/stable/modules/linear_model.html#logistic-regression\n",
      "  extra_warning_msg=_LOGISTIC_SOLVER_CONVERGENCE_MSG,\n",
      "/opt/conda/lib/python3.7/site-packages/sklearn/linear_model/_logistic.py:818: ConvergenceWarning: lbfgs failed to converge (status=1):\n",
      "STOP: TOTAL NO. of ITERATIONS REACHED LIMIT.\n",
      "\n",
      "Increase the number of iterations (max_iter) or scale the data as shown in:\n",
      "    https://scikit-learn.org/stable/modules/preprocessing.html\n",
      "Please also refer to the documentation for alternative solver options:\n",
      "    https://scikit-learn.org/stable/modules/linear_model.html#logistic-regression\n",
      "  extra_warning_msg=_LOGISTIC_SOLVER_CONVERGENCE_MSG,\n",
      "/opt/conda/lib/python3.7/site-packages/sklearn/linear_model/_logistic.py:818: ConvergenceWarning: lbfgs failed to converge (status=1):\n",
      "STOP: TOTAL NO. of ITERATIONS REACHED LIMIT.\n",
      "\n",
      "Increase the number of iterations (max_iter) or scale the data as shown in:\n",
      "    https://scikit-learn.org/stable/modules/preprocessing.html\n",
      "Please also refer to the documentation for alternative solver options:\n",
      "    https://scikit-learn.org/stable/modules/linear_model.html#logistic-regression\n",
      "  extra_warning_msg=_LOGISTIC_SOLVER_CONVERGENCE_MSG,\n",
      "/opt/conda/lib/python3.7/site-packages/sklearn/linear_model/_logistic.py:818: ConvergenceWarning: lbfgs failed to converge (status=1):\n",
      "STOP: TOTAL NO. of ITERATIONS REACHED LIMIT.\n",
      "\n",
      "Increase the number of iterations (max_iter) or scale the data as shown in:\n",
      "    https://scikit-learn.org/stable/modules/preprocessing.html\n",
      "Please also refer to the documentation for alternative solver options:\n",
      "    https://scikit-learn.org/stable/modules/linear_model.html#logistic-regression\n",
      "  extra_warning_msg=_LOGISTIC_SOLVER_CONVERGENCE_MSG,\n",
      "/opt/conda/lib/python3.7/site-packages/sklearn/linear_model/_logistic.py:818: ConvergenceWarning: lbfgs failed to converge (status=1):\n",
      "STOP: TOTAL NO. of ITERATIONS REACHED LIMIT.\n",
      "\n",
      "Increase the number of iterations (max_iter) or scale the data as shown in:\n",
      "    https://scikit-learn.org/stable/modules/preprocessing.html\n",
      "Please also refer to the documentation for alternative solver options:\n",
      "    https://scikit-learn.org/stable/modules/linear_model.html#logistic-regression\n",
      "  extra_warning_msg=_LOGISTIC_SOLVER_CONVERGENCE_MSG,\n",
      "/opt/conda/lib/python3.7/site-packages/sklearn/linear_model/_logistic.py:818: ConvergenceWarning: lbfgs failed to converge (status=1):\n",
      "STOP: TOTAL NO. of ITERATIONS REACHED LIMIT.\n",
      "\n",
      "Increase the number of iterations (max_iter) or scale the data as shown in:\n",
      "    https://scikit-learn.org/stable/modules/preprocessing.html\n",
      "Please also refer to the documentation for alternative solver options:\n",
      "    https://scikit-learn.org/stable/modules/linear_model.html#logistic-regression\n",
      "  extra_warning_msg=_LOGISTIC_SOLVER_CONVERGENCE_MSG,\n",
      "/opt/conda/lib/python3.7/site-packages/sklearn/linear_model/_logistic.py:818: ConvergenceWarning: lbfgs failed to converge (status=1):\n",
      "STOP: TOTAL NO. of ITERATIONS REACHED LIMIT.\n",
      "\n",
      "Increase the number of iterations (max_iter) or scale the data as shown in:\n",
      "    https://scikit-learn.org/stable/modules/preprocessing.html\n",
      "Please also refer to the documentation for alternative solver options:\n",
      "    https://scikit-learn.org/stable/modules/linear_model.html#logistic-regression\n",
      "  extra_warning_msg=_LOGISTIC_SOLVER_CONVERGENCE_MSG,\n",
      "/opt/conda/lib/python3.7/site-packages/sklearn/linear_model/_logistic.py:818: ConvergenceWarning: lbfgs failed to converge (status=1):\n",
      "STOP: TOTAL NO. of ITERATIONS REACHED LIMIT.\n",
      "\n",
      "Increase the number of iterations (max_iter) or scale the data as shown in:\n",
      "    https://scikit-learn.org/stable/modules/preprocessing.html\n",
      "Please also refer to the documentation for alternative solver options:\n",
      "    https://scikit-learn.org/stable/modules/linear_model.html#logistic-regression\n",
      "  extra_warning_msg=_LOGISTIC_SOLVER_CONVERGENCE_MSG,\n",
      "/opt/conda/lib/python3.7/site-packages/sklearn/linear_model/_logistic.py:818: ConvergenceWarning: lbfgs failed to converge (status=1):\n",
      "STOP: TOTAL NO. of ITERATIONS REACHED LIMIT.\n",
      "\n",
      "Increase the number of iterations (max_iter) or scale the data as shown in:\n",
      "    https://scikit-learn.org/stable/modules/preprocessing.html\n",
      "Please also refer to the documentation for alternative solver options:\n",
      "    https://scikit-learn.org/stable/modules/linear_model.html#logistic-regression\n",
      "  extra_warning_msg=_LOGISTIC_SOLVER_CONVERGENCE_MSG,\n",
      "/opt/conda/lib/python3.7/site-packages/sklearn/linear_model/_logistic.py:818: ConvergenceWarning: lbfgs failed to converge (status=1):\n",
      "STOP: TOTAL NO. of ITERATIONS REACHED LIMIT.\n",
      "\n",
      "Increase the number of iterations (max_iter) or scale the data as shown in:\n",
      "    https://scikit-learn.org/stable/modules/preprocessing.html\n",
      "Please also refer to the documentation for alternative solver options:\n",
      "    https://scikit-learn.org/stable/modules/linear_model.html#logistic-regression\n",
      "  extra_warning_msg=_LOGISTIC_SOLVER_CONVERGENCE_MSG,\n",
      "/opt/conda/lib/python3.7/site-packages/sklearn/linear_model/_logistic.py:818: ConvergenceWarning: lbfgs failed to converge (status=1):\n",
      "STOP: TOTAL NO. of ITERATIONS REACHED LIMIT.\n",
      "\n",
      "Increase the number of iterations (max_iter) or scale the data as shown in:\n",
      "    https://scikit-learn.org/stable/modules/preprocessing.html\n",
      "Please also refer to the documentation for alternative solver options:\n",
      "    https://scikit-learn.org/stable/modules/linear_model.html#logistic-regression\n",
      "  extra_warning_msg=_LOGISTIC_SOLVER_CONVERGENCE_MSG,\n",
      "/opt/conda/lib/python3.7/site-packages/sklearn/linear_model/_logistic.py:818: ConvergenceWarning: lbfgs failed to converge (status=1):\n",
      "STOP: TOTAL NO. of ITERATIONS REACHED LIMIT.\n",
      "\n",
      "Increase the number of iterations (max_iter) or scale the data as shown in:\n",
      "    https://scikit-learn.org/stable/modules/preprocessing.html\n",
      "Please also refer to the documentation for alternative solver options:\n",
      "    https://scikit-learn.org/stable/modules/linear_model.html#logistic-regression\n",
      "  extra_warning_msg=_LOGISTIC_SOLVER_CONVERGENCE_MSG,\n",
      "/opt/conda/lib/python3.7/site-packages/sklearn/linear_model/_logistic.py:818: ConvergenceWarning: lbfgs failed to converge (status=1):\n",
      "STOP: TOTAL NO. of ITERATIONS REACHED LIMIT.\n",
      "\n",
      "Increase the number of iterations (max_iter) or scale the data as shown in:\n",
      "    https://scikit-learn.org/stable/modules/preprocessing.html\n",
      "Please also refer to the documentation for alternative solver options:\n",
      "    https://scikit-learn.org/stable/modules/linear_model.html#logistic-regression\n",
      "  extra_warning_msg=_LOGISTIC_SOLVER_CONVERGENCE_MSG,\n",
      "/opt/conda/lib/python3.7/site-packages/sklearn/linear_model/_logistic.py:818: ConvergenceWarning: lbfgs failed to converge (status=1):\n",
      "STOP: TOTAL NO. of ITERATIONS REACHED LIMIT.\n",
      "\n",
      "Increase the number of iterations (max_iter) or scale the data as shown in:\n",
      "    https://scikit-learn.org/stable/modules/preprocessing.html\n",
      "Please also refer to the documentation for alternative solver options:\n",
      "    https://scikit-learn.org/stable/modules/linear_model.html#logistic-regression\n",
      "  extra_warning_msg=_LOGISTIC_SOLVER_CONVERGENCE_MSG,\n",
      "/opt/conda/lib/python3.7/site-packages/sklearn/linear_model/_logistic.py:818: ConvergenceWarning: lbfgs failed to converge (status=1):\n",
      "STOP: TOTAL NO. of ITERATIONS REACHED LIMIT.\n",
      "\n",
      "Increase the number of iterations (max_iter) or scale the data as shown in:\n",
      "    https://scikit-learn.org/stable/modules/preprocessing.html\n",
      "Please also refer to the documentation for alternative solver options:\n",
      "    https://scikit-learn.org/stable/modules/linear_model.html#logistic-regression\n",
      "  extra_warning_msg=_LOGISTIC_SOLVER_CONVERGENCE_MSG,\n",
      "/opt/conda/lib/python3.7/site-packages/sklearn/linear_model/_logistic.py:818: ConvergenceWarning: lbfgs failed to converge (status=1):\n",
      "STOP: TOTAL NO. of ITERATIONS REACHED LIMIT.\n",
      "\n",
      "Increase the number of iterations (max_iter) or scale the data as shown in:\n",
      "    https://scikit-learn.org/stable/modules/preprocessing.html\n",
      "Please also refer to the documentation for alternative solver options:\n",
      "    https://scikit-learn.org/stable/modules/linear_model.html#logistic-regression\n",
      "  extra_warning_msg=_LOGISTIC_SOLVER_CONVERGENCE_MSG,\n",
      "/opt/conda/lib/python3.7/site-packages/sklearn/linear_model/_logistic.py:818: ConvergenceWarning: lbfgs failed to converge (status=1):\n",
      "STOP: TOTAL NO. of ITERATIONS REACHED LIMIT.\n",
      "\n",
      "Increase the number of iterations (max_iter) or scale the data as shown in:\n",
      "    https://scikit-learn.org/stable/modules/preprocessing.html\n",
      "Please also refer to the documentation for alternative solver options:\n",
      "    https://scikit-learn.org/stable/modules/linear_model.html#logistic-regression\n",
      "  extra_warning_msg=_LOGISTIC_SOLVER_CONVERGENCE_MSG,\n",
      "/opt/conda/lib/python3.7/site-packages/sklearn/model_selection/_validation.py:372: FitFailedWarning: \n",
      "90 fits failed out of a total of 180.\n",
      "The score on these train-test partitions for these parameters will be set to nan.\n",
      "If these failures are not expected, you can try to debug them by setting error_score='raise'.\n",
      "\n",
      "Below are more details about the failures:\n",
      "--------------------------------------------------------------------------------\n",
      "90 fits failed with the following error:\n",
      "Traceback (most recent call last):\n",
      "  File \"/opt/conda/lib/python3.7/site-packages/sklearn/model_selection/_validation.py\", line 681, in _fit_and_score\n",
      "    estimator.fit(X_train, y_train, **fit_params)\n",
      "  File \"/opt/conda/lib/python3.7/site-packages/sklearn/linear_model/_logistic.py\", line 1461, in fit\n",
      "    solver = _check_solver(self.solver, self.penalty, self.dual)\n",
      "  File \"/opt/conda/lib/python3.7/site-packages/sklearn/linear_model/_logistic.py\", line 449, in _check_solver\n",
      "    % (solver, penalty)\n",
      "ValueError: Solver lbfgs supports only 'l2' or 'none' penalties, got l1 penalty.\n",
      "\n",
      "  warnings.warn(some_fits_failed_message, FitFailedWarning)\n",
      "/opt/conda/lib/python3.7/site-packages/sklearn/model_selection/_search.py:972: UserWarning: One or more of the test scores are non-finite: [       nan 0.78652424        nan 0.78964667        nan 0.78964667\n",
      "        nan 0.78685292        nan 0.78866064        nan 0.78948233\n",
      "        nan 0.78668858        nan 0.78866064        nan 0.78964667\n",
      "        nan 0.78685292        nan 0.78964667        nan 0.78964667\n",
      "        nan 0.78668858        nan 0.789318          nan 0.78866064\n",
      "        nan 0.78668858        nan 0.78882498        nan 0.78915366]\n",
      "  category=UserWarning,\n",
      "/opt/conda/lib/python3.7/site-packages/sklearn/linear_model/_logistic.py:818: ConvergenceWarning: lbfgs failed to converge (status=1):\n",
      "STOP: TOTAL NO. of ITERATIONS REACHED LIMIT.\n",
      "\n",
      "Increase the number of iterations (max_iter) or scale the data as shown in:\n",
      "    https://scikit-learn.org/stable/modules/preprocessing.html\n",
      "Please also refer to the documentation for alternative solver options:\n",
      "    https://scikit-learn.org/stable/modules/linear_model.html#logistic-regression\n",
      "  extra_warning_msg=_LOGISTIC_SOLVER_CONVERGENCE_MSG,\n"
     ]
    },
    {
     "name": "stdout",
     "output_type": "stream",
     "text": [
      "Model: LogisticRegression\n",
      "Training time (mins): 0.07\n",
      "\n",
      "Model: KNN\n",
      "Training time (mins): 0.07\n",
      "\n",
      "Model: RandomForest\n",
      "Training time (mins): 0.74\n",
      "\n",
      "Model: LGBM\n",
      "Training time (mins): 0.22\n",
      "\n"
     ]
    }
   ],
   "source": [
    "# Sklearn\n",
    "from sklearn.model_selection import train_test_split, GridSearchCV, RandomizedSearchCV, StratifiedKFold\n",
    "import time\n",
    "\n",
    "i=0\n",
    "clf_best_params=classifiers.copy()\n",
    "valid_scores=pd.DataFrame({'Classifer':classifiers.keys(), 'Validation accuracy': np.zeros(len(classifiers)), 'Training time': np.zeros(len(classifiers))})\n",
    "for key, classifier in classifiers.items():\n",
    "    start = time.time()\n",
    "    clf = GridSearchCV(estimator=classifier, param_grid=grid[key], n_jobs=-1, cv=None)\n",
    "\n",
    "    # Train and score\n",
    "    clf.fit(X_train, y_train)\n",
    "    valid_scores.iloc[i,1]=clf.score(X_val, y_val)\n",
    "\n",
    "    # Save trained model\n",
    "    clf_best_params[key]=clf.best_params_\n",
    "    \n",
    "    # Print iteration and training time\n",
    "    stop = time.time()\n",
    "    valid_scores.iloc[i,2]=np.round((stop - start)/60, 2)\n",
    "    \n",
    "    print('Model:', key)\n",
    "    print('Training time (mins):', valid_scores.iloc[i,2])\n",
    "    print('')\n",
    "    i+=1"
   ]
  },
  {
   "cell_type": "markdown",
   "id": "a673c9e8",
   "metadata": {
    "papermill": {
     "duration": 0.105006,
     "end_time": "2022-04-05T08:21:15.610029",
     "exception": false,
     "start_time": "2022-04-05T08:21:15.505023",
     "status": "completed"
    },
    "tags": []
   },
   "source": [
    "- 4개의 모형에 대한 속도와 정확도 평가를 확인한다."
   ]
  },
  {
   "cell_type": "code",
   "execution_count": 52,
   "id": "441eba89",
   "metadata": {
    "execution": {
     "iopub.execute_input": "2022-04-05T08:21:15.821261Z",
     "iopub.status.busy": "2022-04-05T08:21:15.820132Z",
     "iopub.status.idle": "2022-04-05T08:21:15.832380Z",
     "shell.execute_reply": "2022-04-05T08:21:15.831824Z",
     "shell.execute_reply.started": "2022-04-05T08:05:01.298442Z"
    },
    "papermill": {
     "duration": 0.11917,
     "end_time": "2022-04-05T08:21:15.832543",
     "exception": false,
     "start_time": "2022-04-05T08:21:15.713373",
     "status": "completed"
    },
    "tags": []
   },
   "outputs": [
    {
     "data": {
      "text/html": [
       "<div>\n",
       "<style scoped>\n",
       "    .dataframe tbody tr th:only-of-type {\n",
       "        vertical-align: middle;\n",
       "    }\n",
       "\n",
       "    .dataframe tbody tr th {\n",
       "        vertical-align: top;\n",
       "    }\n",
       "\n",
       "    .dataframe thead th {\n",
       "        text-align: right;\n",
       "    }\n",
       "</style>\n",
       "<table border=\"1\" class=\"dataframe\">\n",
       "  <thead>\n",
       "    <tr style=\"text-align: right;\">\n",
       "      <th></th>\n",
       "      <th>Classifer</th>\n",
       "      <th>Validation accuracy</th>\n",
       "      <th>Training time</th>\n",
       "    </tr>\n",
       "  </thead>\n",
       "  <tbody>\n",
       "    <tr>\n",
       "      <th>0</th>\n",
       "      <td>LogisticRegression</td>\n",
       "      <td>0.778758</td>\n",
       "      <td>0.07</td>\n",
       "    </tr>\n",
       "    <tr>\n",
       "      <th>1</th>\n",
       "      <td>KNN</td>\n",
       "      <td>0.777991</td>\n",
       "      <td>0.07</td>\n",
       "    </tr>\n",
       "    <tr>\n",
       "      <th>2</th>\n",
       "      <td>RandomForest</td>\n",
       "      <td>0.790644</td>\n",
       "      <td>0.74</td>\n",
       "    </tr>\n",
       "    <tr>\n",
       "      <th>3</th>\n",
       "      <td>LGBM</td>\n",
       "      <td>0.792561</td>\n",
       "      <td>0.22</td>\n",
       "    </tr>\n",
       "  </tbody>\n",
       "</table>\n",
       "</div>"
      ],
      "text/plain": [
       "            Classifer  Validation accuracy  Training time\n",
       "0  LogisticRegression             0.778758           0.07\n",
       "1                 KNN             0.777991           0.07\n",
       "2        RandomForest             0.790644           0.74\n",
       "3                LGBM             0.792561           0.22"
      ]
     },
     "execution_count": 52,
     "metadata": {},
     "output_type": "execute_result"
    }
   ],
   "source": [
    "# Show results\n",
    "valid_scores"
   ]
  },
  {
   "cell_type": "markdown",
   "id": "df1757e8",
   "metadata": {
    "papermill": {
     "duration": 0.105413,
     "end_time": "2022-04-05T08:21:16.042799",
     "exception": false,
     "start_time": "2022-04-05T08:21:15.937386",
     "status": "completed"
    },
    "tags": []
   },
   "source": [
    "- 가장 좋은 파라미터를 찾는다."
   ]
  },
  {
   "cell_type": "code",
   "execution_count": 53,
   "id": "6670464c",
   "metadata": {
    "execution": {
     "iopub.execute_input": "2022-04-05T08:21:16.256757Z",
     "iopub.status.busy": "2022-04-05T08:21:16.255741Z",
     "iopub.status.idle": "2022-04-05T08:21:16.262639Z",
     "shell.execute_reply": "2022-04-05T08:21:16.261995Z",
     "shell.execute_reply.started": "2022-04-05T08:05:07.314732Z"
    },
    "papermill": {
     "duration": 0.114233,
     "end_time": "2022-04-05T08:21:16.262797",
     "exception": false,
     "start_time": "2022-04-05T08:21:16.148564",
     "status": "completed"
    },
    "tags": []
   },
   "outputs": [
    {
     "data": {
      "text/plain": [
       "{'LogisticRegression': {'C': 1, 'max_iter': 150, 'penalty': 'l2'},\n",
       " 'KNN': {'n_neighbors': 9, 'p': 2},\n",
       " 'RandomForest': {'max_depth': 10, 'n_estimators': 50},\n",
       " 'LGBM': {'learning_rate': 0.1, 'max_depth': 8, 'n_estimators': 50}}"
      ]
     },
     "execution_count": 53,
     "metadata": {},
     "output_type": "execute_result"
    }
   ],
   "source": [
    "clf_best_params"
   ]
  },
  {
   "cell_type": "code",
   "execution_count": 54,
   "id": "158c54c7",
   "metadata": {
    "execution": {
     "iopub.execute_input": "2022-04-05T08:21:16.476881Z",
     "iopub.status.busy": "2022-04-05T08:21:16.475837Z",
     "iopub.status.idle": "2022-04-05T08:21:16.480935Z",
     "shell.execute_reply": "2022-04-05T08:21:16.481588Z",
     "shell.execute_reply.started": "2022-04-05T08:05:17.635445Z"
    },
    "papermill": {
     "duration": 0.114565,
     "end_time": "2022-04-05T08:21:16.481783",
     "exception": false,
     "start_time": "2022-04-05T08:21:16.367218",
     "status": "completed"
    },
    "tags": []
   },
   "outputs": [],
   "source": [
    "# Classifiers\n",
    "best_classifiers = {\n",
    "    \"RandomForest\" : RandomForestClassifier(**clf_best_params[\"RandomForest\"], random_state=0),\n",
    "    \"LGBM\" : LGBMClassifier(**clf_best_params[\"LGBM\"], random_state=0)\n",
    "}"
   ]
  },
  {
   "cell_type": "code",
   "execution_count": 55,
   "id": "b52902d2",
   "metadata": {
    "execution": {
     "iopub.execute_input": "2022-04-05T08:21:16.698637Z",
     "iopub.status.busy": "2022-04-05T08:21:16.697588Z",
     "iopub.status.idle": "2022-04-05T08:21:21.711970Z",
     "shell.execute_reply": "2022-04-05T08:21:21.713160Z",
     "shell.execute_reply.started": "2022-04-05T08:05:21.700825Z"
    },
    "papermill": {
     "duration": 5.123423,
     "end_time": "2022-04-05T08:21:21.713424",
     "exception": false,
     "start_time": "2022-04-05T08:21:16.590001",
     "status": "completed"
    },
    "tags": []
   },
   "outputs": [
    {
     "name": "stderr",
     "output_type": "stream",
     "text": [
      "/opt/conda/lib/python3.7/site-packages/sklearn/base.py:439: UserWarning: X has feature names, but RandomForestClassifier was fitted without feature names\n",
      "  f\"X has feature names, but {self.__class__.__name__} was fitted without\"\n",
      "/opt/conda/lib/python3.7/site-packages/sklearn/base.py:439: UserWarning: X has feature names, but RandomForestClassifier was fitted without feature names\n",
      "  f\"X has feature names, but {self.__class__.__name__} was fitted without\"\n",
      "/opt/conda/lib/python3.7/site-packages/sklearn/base.py:439: UserWarning: X has feature names, but RandomForestClassifier was fitted without feature names\n",
      "  f\"X has feature names, but {self.__class__.__name__} was fitted without\"\n",
      "/opt/conda/lib/python3.7/site-packages/sklearn/base.py:439: UserWarning: X has feature names, but RandomForestClassifier was fitted without feature names\n",
      "  f\"X has feature names, but {self.__class__.__name__} was fitted without\"\n",
      "/opt/conda/lib/python3.7/site-packages/sklearn/base.py:439: UserWarning: X has feature names, but RandomForestClassifier was fitted without feature names\n",
      "  f\"X has feature names, but {self.__class__.__name__} was fitted without\"\n",
      "/opt/conda/lib/python3.7/site-packages/sklearn/base.py:439: UserWarning: X has feature names, but RandomForestClassifier was fitted without feature names\n",
      "  f\"X has feature names, but {self.__class__.__name__} was fitted without\"\n",
      "/opt/conda/lib/python3.7/site-packages/sklearn/base.py:439: UserWarning: X has feature names, but RandomForestClassifier was fitted without feature names\n",
      "  f\"X has feature names, but {self.__class__.__name__} was fitted without\"\n",
      "/opt/conda/lib/python3.7/site-packages/sklearn/base.py:439: UserWarning: X has feature names, but RandomForestClassifier was fitted without feature names\n",
      "  f\"X has feature names, but {self.__class__.__name__} was fitted without\"\n",
      "/opt/conda/lib/python3.7/site-packages/sklearn/base.py:439: UserWarning: X has feature names, but RandomForestClassifier was fitted without feature names\n",
      "  f\"X has feature names, but {self.__class__.__name__} was fitted without\"\n",
      "/opt/conda/lib/python3.7/site-packages/sklearn/base.py:439: UserWarning: X has feature names, but RandomForestClassifier was fitted without feature names\n",
      "  f\"X has feature names, but {self.__class__.__name__} was fitted without\"\n"
     ]
    },
    {
     "name": "stdout",
     "output_type": "stream",
     "text": [
      "Model: RandomForest\n",
      "Average validation accuracy: 79.64\n",
      "Training time (mins): 0.06\n",
      "\n",
      "Model: LGBM\n",
      "Average validation accuracy: 79.48\n",
      "Training time (mins): 0.02\n",
      "\n"
     ]
    }
   ],
   "source": [
    "# Number of folds in cross validation\n",
    "FOLDS=10\n",
    "\n",
    "preds=np.zeros(len(test_data))\n",
    "for key, classifier in best_classifiers.items():\n",
    "    start = time.time()\n",
    "    \n",
    "    # 5-fold cross validation\n",
    "    cv = StratifiedKFold(n_splits=FOLDS, shuffle=True, random_state=0)\n",
    "    \n",
    "    score=0\n",
    "    for fold, (train_idx, val_idx) in enumerate(cv.split(X, y)):\n",
    "        # Get training and validation sets\n",
    "        X_train, X_valid = X[train_idx], X[val_idx]\n",
    "        y_train, y_valid = y[train_idx], y[val_idx]\n",
    "\n",
    "        # Train model\n",
    "        clf = classifier\n",
    "        clf.fit(X_train, y_train)\n",
    "\n",
    "        # Make predictions and measure accuracy\n",
    "        preds += clf.predict_proba(test_data)[:,1]\n",
    "        score += clf.score(X_valid, y_valid)\n",
    "\n",
    "    # Average accuracy    \n",
    "    score=score/FOLDS\n",
    "    \n",
    "    # Stop timer\n",
    "    stop = time.time()\n",
    "\n",
    "    # Print accuracy and time\n",
    "    print('Model:', key)\n",
    "    print('Average validation accuracy:', np.round(100*score,2))\n",
    "    print('Training time (mins):', np.round((stop - start)/60,2))\n",
    "    print('')\n",
    "    \n",
    "# Ensemble predictions\n",
    "preds=preds/(FOLDS*len(best_classifiers))"
   ]
  },
  {
   "cell_type": "markdown",
   "id": "d56dfa96",
   "metadata": {
    "papermill": {
     "duration": 0.110463,
     "end_time": "2022-04-05T08:21:21.935591",
     "exception": false,
     "start_time": "2022-04-05T08:21:21.825128",
     "status": "completed"
    },
    "tags": []
   },
   "source": [
    "# Step 5. 모형 평가\n"
   ]
  },
  {
   "cell_type": "code",
   "execution_count": 56,
   "id": "076c63e5",
   "metadata": {
    "execution": {
     "iopub.execute_input": "2022-04-05T08:21:22.157506Z",
     "iopub.status.busy": "2022-04-05T08:21:22.156781Z",
     "iopub.status.idle": "2022-04-05T08:21:22.985740Z",
     "shell.execute_reply": "2022-04-05T08:21:22.986521Z",
     "shell.execute_reply.started": "2022-04-05T08:05:32.198099Z"
    },
    "papermill": {
     "duration": 0.942543,
     "end_time": "2022-04-05T08:21:22.986795",
     "exception": false,
     "start_time": "2022-04-05T08:21:22.044252",
     "status": "completed"
    },
    "tags": []
   },
   "outputs": [
    {
     "name": "stdout",
     "output_type": "stream",
     "text": [
      "train Acc. 0.8584804195058158\n",
      "test Acc. 0.7923066112123417\n"
     ]
    }
   ],
   "source": [
    "from sklearn.model_selection import StratifiedKFold\n",
    "from sklearn.model_selection import cross_validate\n",
    "\n",
    "splitter = StratifiedKFold(n_splits = 5, shuffle = True, random_state=42)\n",
    "scores = cross_validate(lgb, X_train, y_train, return_train_score = True, cv=splitter)\n",
    "\n",
    "print(\"train Acc.\", np.mean(scores['train_score']))\n",
    "print(\"test Acc.\", np.mean(scores['test_score']))"
   ]
  },
  {
   "cell_type": "code",
   "execution_count": 57,
   "id": "f7b420ef",
   "metadata": {
    "execution": {
     "iopub.execute_input": "2022-04-05T08:21:23.222020Z",
     "iopub.status.busy": "2022-04-05T08:21:23.221007Z",
     "iopub.status.idle": "2022-04-05T08:21:23.379633Z",
     "shell.execute_reply": "2022-04-05T08:21:23.380630Z",
     "shell.execute_reply.started": "2022-04-05T08:05:43.897212Z"
    },
    "papermill": {
     "duration": 0.278268,
     "end_time": "2022-04-05T08:21:23.380902",
     "exception": false,
     "start_time": "2022-04-05T08:21:23.102634",
     "status": "completed"
    },
    "tags": []
   },
   "outputs": [
    {
     "name": "stdout",
     "output_type": "stream",
     "text": [
      "Acc. 0.8401073619631901\n"
     ]
    }
   ],
   "source": [
    "from sklearn.metrics import accuracy_score\n",
    "\n",
    "lgb.fit(X_train, y_train)\n",
    "y_pred = lgb.predict(X_val)\n",
    "print(\"Acc.\", accuracy_score(y_val, y_pred))"
   ]
  },
  {
   "cell_type": "markdown",
   "id": "81cd48ad",
   "metadata": {
    "papermill": {
     "duration": 0.111377,
     "end_time": "2022-04-05T08:21:23.604849",
     "exception": false,
     "start_time": "2022-04-05T08:21:23.493472",
     "status": "completed"
    },
    "tags": []
   },
   "source": [
    "# Step 6. 제출\n"
   ]
  },
  {
   "cell_type": "code",
   "execution_count": 58,
   "id": "f4a47daa",
   "metadata": {
    "execution": {
     "iopub.execute_input": "2022-04-05T08:21:23.831068Z",
     "iopub.status.busy": "2022-04-05T08:21:23.828465Z",
     "iopub.status.idle": "2022-04-05T08:21:23.851746Z",
     "shell.execute_reply": "2022-04-05T08:21:23.852395Z",
     "shell.execute_reply.started": "2022-04-05T08:05:49.337352Z"
    },
    "papermill": {
     "duration": 0.137507,
     "end_time": "2022-04-05T08:21:23.852582",
     "exception": false,
     "start_time": "2022-04-05T08:21:23.715075",
     "status": "completed"
    },
    "tags": []
   },
   "outputs": [
    {
     "data": {
      "text/html": [
       "<div>\n",
       "<style scoped>\n",
       "    .dataframe tbody tr th:only-of-type {\n",
       "        vertical-align: middle;\n",
       "    }\n",
       "\n",
       "    .dataframe tbody tr th {\n",
       "        vertical-align: top;\n",
       "    }\n",
       "\n",
       "    .dataframe thead th {\n",
       "        text-align: right;\n",
       "    }\n",
       "</style>\n",
       "<table border=\"1\" class=\"dataframe\">\n",
       "  <thead>\n",
       "    <tr style=\"text-align: right;\">\n",
       "      <th></th>\n",
       "      <th>PassengerId</th>\n",
       "      <th>Transported</th>\n",
       "    </tr>\n",
       "  </thead>\n",
       "  <tbody>\n",
       "    <tr>\n",
       "      <th>0</th>\n",
       "      <td>0013_01</td>\n",
       "      <td>True</td>\n",
       "    </tr>\n",
       "    <tr>\n",
       "      <th>1</th>\n",
       "      <td>0018_01</td>\n",
       "      <td>False</td>\n",
       "    </tr>\n",
       "    <tr>\n",
       "      <th>2</th>\n",
       "      <td>0019_01</td>\n",
       "      <td>True</td>\n",
       "    </tr>\n",
       "    <tr>\n",
       "      <th>3</th>\n",
       "      <td>0021_01</td>\n",
       "      <td>True</td>\n",
       "    </tr>\n",
       "    <tr>\n",
       "      <th>4</th>\n",
       "      <td>0023_01</td>\n",
       "      <td>True</td>\n",
       "    </tr>\n",
       "  </tbody>\n",
       "</table>\n",
       "</div>"
      ],
      "text/plain": [
       "  PassengerId  Transported\n",
       "0     0013_01         True\n",
       "1     0018_01        False\n",
       "2     0019_01         True\n",
       "3     0021_01         True\n",
       "4     0023_01         True"
      ]
     },
     "execution_count": 58,
     "metadata": {},
     "output_type": "execute_result"
    }
   ],
   "source": [
    "preds=np.round(preds).astype(bool)\n",
    "sample_submission['Transported'] = preds\n",
    "sample_submission.to_csv(\"submission.csv\",index=False)\n",
    "sample_submission.head()"
   ]
  },
  {
   "cell_type": "markdown",
   "id": "b214837c",
   "metadata": {
    "papermill": {
     "duration": 0.112602,
     "end_time": "2022-04-05T08:21:24.078640",
     "exception": false,
     "start_time": "2022-04-05T08:21:23.966038",
     "status": "completed"
    },
    "tags": []
   },
   "source": [
    "# Reference\n",
    "- Spaceship Titanic -EDA + 27 different models\n",
    "- https://www.kaggle.com/code/odins0n/spaceship-titanic-eda-27-different-models\n",
    "\n",
    "- Spaceship Titanic: A complete guide\n",
    "- https://www.kaggle.com/code/samuelcortinhas/spaceship-titanic-a-complete-guide\n",
    "\n"
   ]
  }
 ],
 "metadata": {
  "kernelspec": {
   "display_name": "Python 3",
   "language": "python",
   "name": "python3"
  },
  "language_info": {
   "codemirror_mode": {
    "name": "ipython",
    "version": 3
   },
   "file_extension": ".py",
   "mimetype": "text/x-python",
   "name": "python",
   "nbconvert_exporter": "python",
   "pygments_lexer": "ipython3",
   "version": "3.7.12"
  },
  "papermill": {
   "default_parameters": {},
   "duration": 105.676246,
   "end_time": "2022-04-05T08:21:25.408516",
   "environment_variables": {},
   "exception": null,
   "input_path": "__notebook__.ipynb",
   "output_path": "__notebook__.ipynb",
   "parameters": {},
   "start_time": "2022-04-05T08:19:39.732270",
   "version": "2.3.3"
  }
 },
 "nbformat": 4,
 "nbformat_minor": 5
}
